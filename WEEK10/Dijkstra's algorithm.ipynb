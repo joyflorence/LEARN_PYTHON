{
 "cells": [
  {
   "cell_type": "code",
   "execution_count": null,
   "metadata": {},
   "outputs": [],
   "source": [
    "class Graph:\n",
    "    # ... (existing methods)\n",
    "\n",
    "    def dijkstra(self, start_vertex_data, end_vertex_data):\n",
    "        start_vertex = self.vertex_data.index(start_vertex_data)\n",
    "        end_vertex = self.vertex_data.index(end_vertex_data)\n",
    "        distances = [float('inf')] * self.size\n",
    "        predecessors = [None] * self.size\n",
    "        distances[start_vertex] = 0\n",
    "        visited = [False] * self.size\n",
    "\n",
    "        for _ in range(self.size):\n",
    "            min_distance = float('inf')\n",
    "            u = None\n",
    "            for i in range(self.size):\n",
    "                if not visited[i] and distances[i] < min_distance:\n",
    "                    min_distance = distances[i]\n",
    "                    u = i\n",
    "\n",
    "            if u is None or u == end_vertex:\n",
    "                print(f\"Breaking out of loop. Current vertex: {self.vertex_data[u]}\")\n",
    "                print(f\"Distances: {distances}\")\n",
    "                break\n",
    "\n",
    "            visited[u] = True\n",
    "            print(f\"Visited vertex: {self.vertex_data[u]}\")\n",
    "\n",
    "            for v in range(self.size):\n",
    "                if self.adj_matrix[u][v] != 0 and not visited[v]:\n",
    "                    alt = distances[u] + self.adj_matrix[u][v]\n",
    "                    if alt < distances[v]:\n",
    "                        distances[v] = alt\n",
    "                        predecessors[v] = u\n",
    "\n",
    "        return distances[end_vertex], self.get_path(predecessors, start_vertex_data, end_vertex_data)\n",
    "\n",
    "# Example usage\n",
    "g = Graph(7)\n",
    "# ... (rest of the graph setup)\n",
    "distance, path = g.dijkstra('D', 'F')\n",
    "print(f\"Path: {path}, Distance: {distance}\")"
   ]
  }
 ],
 "metadata": {
  "language_info": {
   "name": "python"
  }
 },
 "nbformat": 4,
 "nbformat_minor": 2
}
