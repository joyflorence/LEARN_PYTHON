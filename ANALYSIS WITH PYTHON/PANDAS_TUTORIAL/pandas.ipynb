{
 "cells": [
  {
   "cell_type": "code",
   "execution_count": 2,
   "metadata": {},
   "outputs": [],
   "source": [
    "import pandas as pd\n",
    "import numpy as np"
   ]
  },
  {
   "cell_type": "code",
   "execution_count": 4,
   "metadata": {},
   "outputs": [
    {
     "data": {
      "text/plain": [
       "0     1.0\n",
       "1     2.0\n",
       "2     3.0\n",
       "3     4.0\n",
       "4     5.0\n",
       "5     NaN\n",
       "6     7.0\n",
       "7     8.0\n",
       "8     9.0\n",
       "9    10.0\n",
       "dtype: float64"
      ]
     },
     "execution_count": 4,
     "metadata": {},
     "output_type": "execute_result"
    }
   ],
   "source": [
    "s = pd.Series([1,2,3,4,5,np.nan,7,8,9,10])\n",
    "s"
   ]
  },
  {
   "cell_type": "code",
   "execution_count": 6,
   "metadata": {},
   "outputs": [
    {
     "data": {
      "text/plain": [
       "DatetimeIndex(['2020-03-01', '2020-03-02', '2020-03-03', '2020-03-04',\n",
       "               '2020-03-05', '2020-03-06', '2020-03-07', '2020-03-08',\n",
       "               '2020-03-09', '2020-03-10'],\n",
       "              dtype='datetime64[ns]', freq='D')"
      ]
     },
     "execution_count": 6,
     "metadata": {},
     "output_type": "execute_result"
    }
   ],
   "source": [
    "d = pd.date_range('20200301',periods=10)\n",
    "d"
   ]
  },
  {
   "cell_type": "code",
   "execution_count": 8,
   "metadata": {},
   "outputs": [
    {
     "data": {
      "text/html": [
       "<div>\n",
       "<style scoped>\n",
       "    .dataframe tbody tr th:only-of-type {\n",
       "        vertical-align: middle;\n",
       "    }\n",
       "\n",
       "    .dataframe tbody tr th {\n",
       "        vertical-align: top;\n",
       "    }\n",
       "\n",
       "    .dataframe thead th {\n",
       "        text-align: right;\n",
       "    }\n",
       "</style>\n",
       "<table border=\"1\" class=\"dataframe\">\n",
       "  <thead>\n",
       "    <tr style=\"text-align: right;\">\n",
       "      <th></th>\n",
       "      <th>A</th>\n",
       "      <th>B</th>\n",
       "      <th>C</th>\n",
       "      <th>D</th>\n",
       "    </tr>\n",
       "  </thead>\n",
       "  <tbody>\n",
       "    <tr>\n",
       "      <th>2020-03-01</th>\n",
       "      <td>-1.241232</td>\n",
       "      <td>0.662128</td>\n",
       "      <td>1.280366</td>\n",
       "      <td>-1.484341</td>\n",
       "    </tr>\n",
       "    <tr>\n",
       "      <th>2020-03-02</th>\n",
       "      <td>-0.873102</td>\n",
       "      <td>-0.171707</td>\n",
       "      <td>0.864591</td>\n",
       "      <td>-1.864223</td>\n",
       "    </tr>\n",
       "    <tr>\n",
       "      <th>2020-03-03</th>\n",
       "      <td>0.339742</td>\n",
       "      <td>0.726643</td>\n",
       "      <td>0.531895</td>\n",
       "      <td>1.225546</td>\n",
       "    </tr>\n",
       "    <tr>\n",
       "      <th>2020-03-04</th>\n",
       "      <td>0.504866</td>\n",
       "      <td>0.424978</td>\n",
       "      <td>0.565072</td>\n",
       "      <td>0.433239</td>\n",
       "    </tr>\n",
       "    <tr>\n",
       "      <th>2020-03-05</th>\n",
       "      <td>0.230069</td>\n",
       "      <td>-0.866636</td>\n",
       "      <td>-0.430525</td>\n",
       "      <td>-0.440346</td>\n",
       "    </tr>\n",
       "    <tr>\n",
       "      <th>2020-03-06</th>\n",
       "      <td>1.020188</td>\n",
       "      <td>-1.499805</td>\n",
       "      <td>-0.003736</td>\n",
       "      <td>-0.309201</td>\n",
       "    </tr>\n",
       "    <tr>\n",
       "      <th>2020-03-07</th>\n",
       "      <td>0.974307</td>\n",
       "      <td>-0.229419</td>\n",
       "      <td>-0.002034</td>\n",
       "      <td>0.223501</td>\n",
       "    </tr>\n",
       "    <tr>\n",
       "      <th>2020-03-08</th>\n",
       "      <td>-1.349132</td>\n",
       "      <td>0.964871</td>\n",
       "      <td>-0.943237</td>\n",
       "      <td>0.084359</td>\n",
       "    </tr>\n",
       "    <tr>\n",
       "      <th>2020-03-09</th>\n",
       "      <td>0.133674</td>\n",
       "      <td>0.127977</td>\n",
       "      <td>-0.749583</td>\n",
       "      <td>-0.185838</td>\n",
       "    </tr>\n",
       "    <tr>\n",
       "      <th>2020-03-10</th>\n",
       "      <td>1.504004</td>\n",
       "      <td>0.588657</td>\n",
       "      <td>-0.806571</td>\n",
       "      <td>-0.137106</td>\n",
       "    </tr>\n",
       "  </tbody>\n",
       "</table>\n",
       "</div>"
      ],
      "text/plain": [
       "                   A         B         C         D\n",
       "2020-03-01 -1.241232  0.662128  1.280366 -1.484341\n",
       "2020-03-02 -0.873102 -0.171707  0.864591 -1.864223\n",
       "2020-03-03  0.339742  0.726643  0.531895  1.225546\n",
       "2020-03-04  0.504866  0.424978  0.565072  0.433239\n",
       "2020-03-05  0.230069 -0.866636 -0.430525 -0.440346\n",
       "2020-03-06  1.020188 -1.499805 -0.003736 -0.309201\n",
       "2020-03-07  0.974307 -0.229419 -0.002034  0.223501\n",
       "2020-03-08 -1.349132  0.964871 -0.943237  0.084359\n",
       "2020-03-09  0.133674  0.127977 -0.749583 -0.185838\n",
       "2020-03-10  1.504004  0.588657 -0.806571 -0.137106"
      ]
     },
     "execution_count": 8,
     "metadata": {},
     "output_type": "execute_result"
    }
   ],
   "source": [
    "df = pd.DataFrame(np.random.randn(10,4),index=d,columns=['A','B','C','D'])\n",
    "df"
   ]
  }
 ],
 "metadata": {
  "kernelspec": {
   "display_name": ".venv",
   "language": "python",
   "name": "python3"
  },
  "language_info": {
   "codemirror_mode": {
    "name": "ipython",
    "version": 3
   },
   "file_extension": ".py",
   "mimetype": "text/x-python",
   "name": "python",
   "nbconvert_exporter": "python",
   "pygments_lexer": "ipython3",
   "version": "3.12.3"
  }
 },
 "nbformat": 4,
 "nbformat_minor": 2
}
