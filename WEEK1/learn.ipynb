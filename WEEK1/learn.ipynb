{
 "cells": [
  {
   "cell_type": "code",
   "execution_count": 1,
   "metadata": {},
   "outputs": [
    {
     "name": "stdout",
     "output_type": "stream",
     "text": [
      "Hello world!\n"
     ]
    }
   ],
   "source": [
    "print(\"Hello world!\")"
   ]
  },
  {
   "cell_type": "markdown",
   "metadata": {},
   "source": [
    "IF...ELIF...ELSE CONDITIONS"
   ]
  },
  {
   "cell_type": "code",
   "execution_count": 3,
   "metadata": {},
   "outputs": [
    {
     "name": "stdout",
     "output_type": "stream",
     "text": [
      "Exactly\n"
     ]
    }
   ],
   "source": [
    "number  = 10\n",
    "if number < 10:\n",
    "    print(\"very low\")\n",
    "\n",
    "elif number == 10:\n",
    "    print(\"Exactly\")\n",
    "\n",
    "else:\n",
    "    print(\"None of the above\")"
   ]
  },
  {
   "cell_type": "code",
   "execution_count": 4,
   "metadata": {},
   "outputs": [
    {
     "name": "stdout",
     "output_type": "stream",
     "text": [
      "students are above 500\n",
      "number of students above 60 are btn 500 and 1000\n"
     ]
    }
   ],
   "source": [
    "students_above_50 = 1000\n",
    "\n",
    "students_above_60 = 100\n",
    "\n",
    "students_below_50 = 50\n",
    "\n",
    "\n",
    "if(students_above_50 > 500):\n",
    "    print(\"students are above 500\")\n",
    "\n",
    "    if(students_above_60 < 30):\n",
    "        print(\"students are above 60\")\n",
    "    else:\n",
    "        print(\"number of students above 60 are btn 500 and 1000\")\n",
    "\n",
    "else:\n",
    "    print(\"students_above_50 are les than 500\")\n",
    "\n",
    "    if(students_below_50 >50):\n",
    "        print(\"Not gretat\")"
   ]
  },
  {
   "cell_type": "markdown",
   "metadata": {},
   "source": [
    "PYTHON FOR LOOPS"
   ]
  },
  {
   "cell_type": "code",
   "execution_count": 16,
   "metadata": {},
   "outputs": [
    {
     "name": "stdout",
     "output_type": "stream",
     "text": [
      "0 1 2 3 4 5 \n",
      "d a t a   s t r u c t u r e s \n",
      "2 3 5 7 11 13 17 19 23 29 31 37 41 43 47 53 59 61 67 71 73 79 83 89 "
     ]
    }
   ],
   "source": [
    "# FOR LOOP SYNTAX\n",
    "i = 6\n",
    "for i in range(6):\n",
    "    print(i, end=\" \")\n",
    "print()\n",
    "language = 'data structures'\n",
    "\n",
    "# iterate over each character in language\n",
    "for x in language:\n",
    "    print(x, end=\" \")\n",
    "\n",
    "print()\n",
    "\n",
    "for i in range(97):\n",
    "    if i > 1:\n",
    "        for j in range(2 , int(i**0.5)+1):\n",
    "            if ( i % j)==0:\n",
    "                 break   \n",
    "            \n",
    "        else:\n",
    "            print(i, end=\" \")\n",
    "            "
   ]
  },
  {
   "cell_type": "markdown",
   "metadata": {},
   "source": [
    "TEST STRINGS"
   ]
  },
  {
   "cell_type": "code",
   "execution_count": 20,
   "metadata": {},
   "outputs": [
    {
     "name": "stdout",
     "output_type": "stream",
     "text": [
      "The number of lowercase characters is: 10\n",
      "The number of uppercase characters is: 3\n"
     ]
    }
   ],
   "source": [
    "  \n",
    "Str=\"GeeksForGeeks\"\n",
    "lower=0\n",
    "upper=0\n",
    "for i in Str:\n",
    "      if(i.islower()):\n",
    "            lower+=1\n",
    "      else:\n",
    "            upper+=1\n",
    "print(\"The number of lowercase characters is:\",lower)\n",
    "print(\"The number of uppercase characters is:\",upper)"
   ]
  },
  {
   "cell_type": "code",
   "execution_count": 21,
   "metadata": {},
   "outputs": [
    {
     "name": "stdout",
     "output_type": "stream",
     "text": [
      "The number of lowercase characters is: 13\n",
      "The number of uppercase characters is: 10\n"
     ]
    }
   ],
   "source": [
    "name = \"My Name IS Joy Florence\"\n",
    "lower=0\n",
    "upper=0\n",
    "for i in name:\n",
    "    if(i.islower()):\n",
    "        lower+=1\n",
    "    else:\n",
    "        upper+=1\n",
    "\n",
    "print(\"The number of lowercase characters is:\",lower)\n",
    "print(\"The number of uppercase characters is:\",upper)"
   ]
  },
  {
   "cell_type": "markdown",
   "metadata": {},
   "source": [
    "WHILE LOOP"
   ]
  },
  {
   "cell_type": "code",
   "execution_count": 22,
   "metadata": {},
   "outputs": [
    {
     "name": "stdout",
     "output_type": "stream",
     "text": [
      "2 3 4 5 \n",
      "0 2 4 6 8 10 12 14 16 18 20 "
     ]
    }
   ],
   "source": [
    "number = 2\n",
    "\n",
    "while number <= 5:\n",
    "    print(number, end=\" \")\n",
    "    number = number + 1\n",
    "\n",
    "print()\n",
    "\n",
    "number = 0\n",
    "\n",
    "while number <= 20:\n",
    "    print(number, end=\" \")\n",
    "    number = number + 2"
   ]
  },
  {
   "cell_type": "markdown",
   "metadata": {},
   "source": [
    "ADDITION"
   ]
  },
  {
   "cell_type": "code",
   "execution_count": 25,
   "metadata": {},
   "outputs": [
    {
     "name": "stdout",
     "output_type": "stream",
     "text": [
      "The sum is 15\n"
     ]
    }
   ],
   "source": [
    "# Calculate the sum of numbers until user enters 0\n",
    "number = int(input('Enter a number: '))\n",
    "\n",
    "total = 0\n",
    "\n",
    "# iterate until the user enters 0\n",
    "while number != 0:\n",
    "    total += number\n",
    "    number = int(input('Enter a number: '))\n",
    "\n",
    "print('The sum is', total)"
   ]
  },
  {
   "cell_type": "code",
   "execution_count": 27,
   "metadata": {},
   "outputs": [
    {
     "name": "stdout",
     "output_type": "stream",
     "text": [
      "Current Letter : g\n",
      "Current Letter : k\n",
      "Current Letter : f\n",
      "Current Letter : o\n",
      "Current Letter : r\n",
      "Current Letter : g\n",
      "Current Letter : k\n"
     ]
    }
   ],
   "source": [
    "  \n",
    "# Prints all letters except 'e' and 's' \n",
    "i = 0\n",
    "a = 'geeksforgeeks'\n",
    "  \n",
    "while i < len(a): \n",
    "    if a[i] == 'e' or a[i] == 's': \n",
    "        i += 1\n",
    "        continue\n",
    "          \n",
    "    print('Current Letter :', a[i]) \n",
    "    i += 1"
   ]
  }
 ],
 "metadata": {
  "kernelspec": {
   "display_name": "Python 3",
   "language": "python",
   "name": "python3"
  },
  "language_info": {
   "codemirror_mode": {
    "name": "ipython",
    "version": 3
   },
   "file_extension": ".py",
   "mimetype": "text/x-python",
   "name": "python",
   "nbconvert_exporter": "python",
   "pygments_lexer": "ipython3",
   "version": "3.12.2"
  }
 },
 "nbformat": 4,
 "nbformat_minor": 2
}
