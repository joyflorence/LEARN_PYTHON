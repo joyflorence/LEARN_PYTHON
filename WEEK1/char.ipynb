{
 "cells": [
  {
   "cell_type": "code",
   "execution_count": 1,
   "metadata": {},
   "outputs": [
    {
     "name": "stdout",
     "output_type": "stream",
     "text": [
      "97\n",
      "32\n"
     ]
    }
   ],
   "source": [
    "# Demonstrating the ord() function.\n",
    "\n",
    "char_1 = 'a'\n",
    "char_2 = ' '  # space\n",
    "\n",
    "print(ord(char_1))\n",
    "print(ord(char_2))"
   ]
  },
  {
   "cell_type": "code",
   "execution_count": 2,
   "metadata": {},
   "outputs": [
    {
     "name": "stdout",
     "output_type": "stream",
     "text": [
      "a\n",
      "α\n"
     ]
    }
   ],
   "source": [
    "# Demonstrating the chr() function.\n",
    "\n",
    "print(chr(97))\n",
    "print(chr(945))"
   ]
  },
  {
   "cell_type": "code",
   "execution_count": 3,
   "metadata": {},
   "outputs": [
    {
     "name": "stdout",
     "output_type": "stream",
     "text": [
      "s i l l y   w a l k s \n"
     ]
    }
   ],
   "source": [
    "# Indexing strings.\n",
    "\n",
    "the_string = 'silly walks'\n",
    "\n",
    "for ix in range(len(the_string)):\n",
    "    print(the_string[ix], end=' ')\n",
    "\n",
    "print()"
   ]
  },
  {
   "cell_type": "code",
   "execution_count": 4,
   "metadata": {},
   "outputs": [
    {
     "name": "stdout",
     "output_type": "stream",
     "text": [
      "bd\n",
      "efg\n",
      "abd\n",
      "e\n",
      "e\n",
      "adf\n",
      "beg\n"
     ]
    }
   ],
   "source": [
    "# Slices\n",
    "\n",
    "alpha = \"abdefg\"\n",
    "\n",
    "print(alpha[1:3])\n",
    "print(alpha[3:])\n",
    "print(alpha[:3])\n",
    "print(alpha[3:-2])\n",
    "print(alpha[-3:4])\n",
    "print(alpha[::2])\n",
    "print(alpha[1::2])"
   ]
  },
  {
   "cell_type": "code",
   "execution_count": 6,
   "metadata": {},
   "outputs": [
    {
     "name": "stdout",
     "output_type": "stream",
     "text": [
      "True\n",
      "True\n",
      "False\n",
      "True\n",
      "False\n"
     ]
    }
   ],
   "source": [
    "alphabet = \"abcdefghijklmnopqrstuvwxyz\"\n",
    "\n",
    "print(\"f\" in alphabet)\n",
    "print(\"F\" not in alphabet)\n",
    "print(\"1\" in alphabet)\n",
    "print(\"ghi\" in alphabet)\n",
    "print(\"Xyz\" in alphabet)"
   ]
  },
  {
   "cell_type": "code",
   "execution_count": 9,
   "metadata": {},
   "outputs": [
    {
     "ename": "TypeError",
     "evalue": "'str' object doesn't support item deletion",
     "output_type": "error",
     "traceback": [
      "\u001b[1;31m---------------------------------------------------------------------------\u001b[0m",
      "\u001b[1;31mTypeError\u001b[0m                                 Traceback (most recent call last)",
      "Cell \u001b[1;32mIn[9], line 3\u001b[0m\n\u001b[0;32m      1\u001b[0m \u001b[38;5;66;03m#immutable habit of strings\u001b[39;00m\n\u001b[0;32m      2\u001b[0m alphabet \u001b[38;5;241m=\u001b[39m \u001b[38;5;124m\"\u001b[39m\u001b[38;5;124mabcdefghijklmnopqrstuvwxyz\u001b[39m\u001b[38;5;124m\"\u001b[39m\n\u001b[1;32m----> 3\u001b[0m \u001b[38;5;28;01mdel\u001b[39;00m \u001b[43malphabet\u001b[49m\u001b[43m[\u001b[49m\u001b[38;5;241;43m0\u001b[39;49m\u001b[43m]\u001b[49m\n",
      "\u001b[1;31mTypeError\u001b[0m: 'str' object doesn't support item deletion"
     ]
    }
   ],
   "source": [
    "#immutable habit of strings\n",
    "alphabet = \"abcdefghijklmnopqrstuvwxyz\"\n",
    "del alphabet[0]"
   ]
  },
  {
   "cell_type": "code",
   "execution_count": 15,
   "metadata": {},
   "outputs": [
    {
     "name": "stdout",
     "output_type": "stream",
     "text": [
      "Joy Flora\n"
     ]
    }
   ],
   "source": [
    "my_name = \"oy Flor\"\n",
    "\n",
    "my_name =  \"J\" + my_name\n",
    "my_name = my_name + \"a\"\n",
    "\n",
    "print(my_name)"
   ]
  }
 ],
 "metadata": {
  "kernelspec": {
   "display_name": "Python 3",
   "language": "python",
   "name": "python3"
  },
  "language_info": {
   "codemirror_mode": {
    "name": "ipython",
    "version": 3
   },
   "file_extension": ".py",
   "mimetype": "text/x-python",
   "name": "python",
   "nbconvert_exporter": "python",
   "pygments_lexer": "ipython3",
   "version": "3.12.2"
  }
 },
 "nbformat": 4,
 "nbformat_minor": 2
}
