{
 "cells": [
  {
   "cell_type": "code",
   "execution_count": 2,
   "metadata": {},
   "outputs": [
    {
     "name": "stdout",
     "output_type": "stream",
     "text": [
      "['Page navigated to: www.google.com', 'Page navigated to: www.github.com', 'Page navigated to: www.yahoo.com', 'Page navigated to: www.ucu.com', 'Page navigated to: www.microsoft.com', 'Page navigated to: www.skype.com']\n",
      "Backward: www.microsoft.com\n",
      "Backward: www.ucu.com\n",
      "Forward: www.microsoft.com\n",
      "Page navigated to: www.w3schools.com\n",
      "Cannot go forward, at the end.\n"
     ]
    }
   ],
   "source": [
    "class BrowserStack:\n",
    "    def __init__(self):\n",
    "        self.pages = []\n",
    "        self.current_index = -1\n",
    "\n",
    "    def navigation(self, uri):\n",
    "        self.pages = self.pages[: self.current_index + 1]  # Remove forward history\n",
    "        self.pages.append(uri)\n",
    "        self.current_index += 1\n",
    "        return f\"Page navigated to: {uri}\"\n",
    "\n",
    "    def backward(self):\n",
    "        if self.current_index > 0:\n",
    "            self.current_index -= 1\n",
    "            return f\"Backward: {self.pages[self.current_index]}\"\n",
    "        else:\n",
    "            return \"Cannot go backward, at the beginning.\"\n",
    "\n",
    "    def forward(self):\n",
    "        if self.current_index < len(self.pages) - 1:\n",
    "            self.current_index += 1\n",
    "            return f\"Forward: {self.pages[self.current_index]}\"\n",
    "        else:\n",
    "            return \"Cannot go forward, at the end.\"\n",
    "\n",
    "\n",
    "# Test the code with provided pages\n",
    "pages = [\"www.google.com\", \"www.github.com\", \"www.yahoo.com\", \"www.ucu.com\", \"www.microsoft.com\", \"www.skype.com\"]\n",
    "browser = BrowserStack()\n",
    "print([browser.navigation(page) for page in pages])\n",
    "\n",
    "print(browser.backward())\n",
    "print(browser.backward())\n",
    "print(browser.forward())\n",
    "print(browser.navigation(\"www.w3schools.com\"))\n",
    "print(browser.forward())\n",
    "\n",
    "   "
   ]
  }
 ],
 "metadata": {
  "kernelspec": {
   "display_name": "Python 3",
   "language": "python",
   "name": "python3"
  },
  "language_info": {
   "codemirror_mode": {
    "name": "ipython",
    "version": 3
   },
   "file_extension": ".py",
   "mimetype": "text/x-python",
   "name": "python",
   "nbconvert_exporter": "python",
   "pygments_lexer": "ipython3",
   "version": "3.12.2"
  }
 },
 "nbformat": 4,
 "nbformat_minor": 2
}
