{
 "cells": [
  {
   "cell_type": "code",
   "execution_count": 2,
   "metadata": {},
   "outputs": [
    {
     "ename": "AttributeError",
     "evalue": "'BrowserStack' object has no attribute 'pages'",
     "output_type": "error",
     "traceback": [
      "\u001b[1;31m---------------------------------------------------------------------------\u001b[0m",
      "\u001b[1;31mAttributeError\u001b[0m                            Traceback (most recent call last)",
      "Cell \u001b[1;32mIn[2], line 35\u001b[0m\n\u001b[0;32m     33\u001b[0m pages \u001b[38;5;241m=\u001b[39m [\u001b[38;5;124m\"\u001b[39m\u001b[38;5;124mwww.google.com\u001b[39m\u001b[38;5;124m\"\u001b[39m,\u001b[38;5;124m\"\u001b[39m\u001b[38;5;124mwww.github.com\u001b[39m\u001b[38;5;124m\"\u001b[39m,\u001b[38;5;124m\"\u001b[39m\u001b[38;5;124mwww.yahoo.com\u001b[39m\u001b[38;5;124m\"\u001b[39m,\u001b[38;5;124m\"\u001b[39m\u001b[38;5;124mwww.ucu.com\u001b[39m\u001b[38;5;124m\"\u001b[39m,\u001b[38;5;124m\"\u001b[39m\u001b[38;5;124mwww.microsoft.com\u001b[39m\u001b[38;5;124m\"\u001b[39m,\u001b[38;5;124m\"\u001b[39m\u001b[38;5;124mwww.skype.com\u001b[39m\u001b[38;5;124m\"\u001b[39m]\n\u001b[0;32m     34\u001b[0m browser \u001b[38;5;241m=\u001b[39m BrowserStack()\n\u001b[1;32m---> 35\u001b[0m \u001b[38;5;28mprint\u001b[39m([\u001b[43mbrowser\u001b[49m\u001b[38;5;241;43m.\u001b[39;49m\u001b[43mnavigation\u001b[49m\u001b[43m(\u001b[49m\u001b[43mpage\u001b[49m\u001b[43m)\u001b[49m \u001b[38;5;28;01mfor\u001b[39;00m page \u001b[38;5;129;01min\u001b[39;00m pages ])\n\u001b[0;32m     36\u001b[0m browser\u001b[38;5;241m.\u001b[39mbackward()\n\u001b[0;32m     37\u001b[0m browser\u001b[38;5;241m.\u001b[39mbackward()\n",
      "Cell \u001b[1;32mIn[2], line 8\u001b[0m, in \u001b[0;36mBrowserStack.navigation\u001b[1;34m(self, url)\u001b[0m\n\u001b[0;32m      7\u001b[0m \u001b[38;5;28;01mdef\u001b[39;00m \u001b[38;5;21mnavigation\u001b[39m(\u001b[38;5;28mself\u001b[39m, url):\n\u001b[1;32m----> 8\u001b[0m     \u001b[38;5;28;01mif\u001b[39;00m url \u001b[38;5;129;01mnot\u001b[39;00m \u001b[38;5;129;01min\u001b[39;00m \u001b[38;5;28;43mself\u001b[39;49m\u001b[38;5;241;43m.\u001b[39;49m\u001b[43mpages\u001b[49m:\n\u001b[0;32m      9\u001b[0m         \u001b[38;5;28mself\u001b[39m\u001b[38;5;241m.\u001b[39mpages\u001b[38;5;241m.\u001b[39mappend(url)\n\u001b[0;32m     10\u001b[0m     \u001b[38;5;28mself\u001b[39m\u001b[38;5;241m.\u001b[39mcurrent_page \u001b[38;5;241m=\u001b[39m \u001b[38;5;28mself\u001b[39m\u001b[38;5;241m.\u001b[39mpages\u001b[38;5;241m.\u001b[39mindex(url)\n",
      "\u001b[1;31mAttributeError\u001b[0m: 'BrowserStack' object has no attribute 'pages'"
     ]
    }
   ],
   "source": [
    "import webbrowser\n",
    "class BrowserStack:\n",
    "    def _init_(self):\n",
    "        self.pages = []\n",
    "        self.current_page = 0\n",
    "\n",
    "    def navigation(self, url):\n",
    "        if url not in self.pages:\n",
    "            self.pages.append(url)\n",
    "        self.current_page = self.pages.index(url)\n",
    "        print(self.current_page)\n",
    "        webbrowser.open(url)\n",
    "        return self.pages[self.current_page]\n",
    "\n",
    "    def backward(self):\n",
    "        if self.current_page > 0:\n",
    "            self.current_page -= 1\n",
    "            webbrowser.open(self.pages[self.current_page])\n",
    "            print(self.pages[self.current_page])\n",
    "            return self.pages[self.current_page]\n",
    "           \n",
    "        else:\n",
    "            return \"No more pages to go back to.\"\n",
    "\n",
    "    def forward(self):\n",
    "        if self.current_page < len(self.pages) - 1:\n",
    "            self.current_page += 1\n",
    "            webbrowser.open(self.pages[self.current_page])\n",
    "            return self.pages[self.current_page]\n",
    "        else:\n",
    "            return \"No more pages to go forward to.\"\n",
    "\n",
    "pages = [\"www.google.com\",\"www.github.com\",\"www.yahoo.com\",\"www.ucu.com\",\"www.microsoft.com\",\"www.skype.com\"]\n",
    "browser = BrowserStack()\n",
    "print([browser.navigation(page) for page in pages ])\n",
    "browser.backward()\n",
    "browser.backward()\n",
    "browser.forward()\n",
    "browser.navigation(\"www.3wschools.com\")\n",
    "browser.forward()"
   ]
  }
 ],
 "metadata": {
  "kernelspec": {
   "display_name": "Python 3",
   "language": "python",
   "name": "python3"
  },
  "language_info": {
   "codemirror_mode": {
    "name": "ipython",
    "version": 3
   },
   "file_extension": ".py",
   "mimetype": "text/x-python",
   "name": "python",
   "nbconvert_exporter": "python",
   "pygments_lexer": "ipython3",
   "version": "3.12.2"
  }
 },
 "nbformat": 4,
 "nbformat_minor": 2
}
