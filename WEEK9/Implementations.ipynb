{
 "cells": [
  {
   "cell_type": "code",
   "execution_count": 44,
   "metadata": {},
   "outputs": [
    {
     "name": "stdout",
     "output_type": "stream",
     "text": [
      "Target value 10 Not found\n"
     ]
    }
   ],
   "source": [
    "#Linear search\n",
    "def linearsearch(list,n):\n",
    "    for i in range(len(list)):\n",
    "        if n == list[i]:\n",
    "           return i\n",
    "    return -1\n",
    "list = [4,8,1,6,7,3]\n",
    "n = int(input(\"Enter key element\"))\n",
    "result = linearsearch(list,n)\n",
    "\n",
    "if result!= -1:\n",
    "    print(\"Target value\",n,\"found at index\",result)\n",
    "else:\n",
    "    print(\"Target value\",n,\"Not found\")\n",
    " \n",
    "\n"
   ]
  },
  {
   "cell_type": "code",
   "execution_count": 2,
   "metadata": {},
   "outputs": [
    {
     "name": "stdout",
     "output_type": "stream",
     "text": [
      "Target not found in array.\n"
     ]
    }
   ],
   "source": [
    "#Binary search\n",
    "\n",
    "def binarySearch(arr, target):\n",
    "    left = 0\n",
    "    right = len(arr) - 1\n",
    "\n",
    "    while left <= right:\n",
    "        mid = (left + right) // 2\n",
    "\n",
    "        if arr[mid] == target:\n",
    "            return mid\n",
    "        \n",
    "        if arr[mid] < target:\n",
    "            left = mid + 1\n",
    "        else:\n",
    "            right = mid - 1\n",
    "\n",
    "    return -1\n",
    "\n",
    "myArray = [ 11, 13, 15, 17, 19]\n",
    "my_Target = int(input(\"Enter target value\"))\n",
    "\n",
    "result = binarySearch(myArray, my_Target)\n",
    "\n",
    "if result != -1:\n",
    "    print(\"Value\",my_Target,\"found at index\", result)\n",
    "else:\n",
    "    print(\"Target not found in array.\")"
   ]
  }
 ],
 "metadata": {
  "kernelspec": {
   "display_name": "Python 3",
   "language": "python",
   "name": "python3"
  },
  "language_info": {
   "codemirror_mode": {
    "name": "ipython",
    "version": 3
   },
   "file_extension": ".py",
   "mimetype": "text/x-python",
   "name": "python",
   "nbconvert_exporter": "python",
   "pygments_lexer": "ipython3",
   "version": "3.12.2"
  }
 },
 "nbformat": 4,
 "nbformat_minor": 2
}
