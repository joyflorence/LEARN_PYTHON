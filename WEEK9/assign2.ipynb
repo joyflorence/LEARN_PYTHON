{
 "cells": [
  {
   "cell_type": "code",
   "execution_count": 1,
   "metadata": {},
   "outputs": [
    {
     "name": "stdout",
     "output_type": "stream",
     "text": [
      "Student 1 joined the queue.\n",
      "Student 2 joined the queue.\n",
      "Student 3 joined the queue.\n",
      "Student 4 joined the queue.\n",
      "Student 5 joined the queue.\n",
      "Initial queue size: 5\n",
      "Student 1 is being served.\n",
      "Student 1 has been served.\n",
      "Student 2 is being served.\n",
      "Student 2 has been served.\n",
      "Student 3 is being served.\n",
      "Student 3 has been served.\n",
      "Queue size after serving: 2\n",
      "Student 6 joined the queue.\n",
      "Student 7 joined the queue.\n",
      "Student 8 joined the queue.\n",
      "There are still students in the queue.\n"
     ]
    }
   ],
   "source": [
    "class StudentQueue:\n",
    "    def __init__(self):\n",
    "        self.queue = []\n",
    "\n",
    "    def enqueue(self, student):\n",
    "        self.queue.append(student)\n",
    "        print(f\"{student} joined the queue.\")\n",
    "\n",
    "    def dequeue(self):\n",
    "        if not self.is_empty():\n",
    "            student = self.queue.pop(0)\n",
    "            print(f\"{student} is being served.\")\n",
    "            return student\n",
    "        else:\n",
    "            print(\"Queue is empty. No students to dequeue.\")\n",
    "            return None\n",
    "\n",
    "    def is_empty(self):\n",
    "        return len(self.queue) == 0\n",
    "\n",
    "    def queue_size(self):\n",
    "        return len(self.queue)\n",
    "\n",
    "\n",
    "# Example usage with a for loop\n",
    "student_queue = StudentQueue()\n",
    "\n",
    "# Enqueue students using a for loop\n",
    "for i in range(1, 6):\n",
    "    student_queue.enqueue(f\"Student {i}\")\n",
    "\n",
    "# Check queue size\n",
    "print(f\"Initial queue size: {student_queue.queue_size()}\")\n",
    "\n",
    "# Dequeue students using a for loop\n",
    "for _ in range(3):\n",
    "    served_student = student_queue.dequeue()\n",
    "    if served_student:\n",
    "        print(f\"{served_student} has been served.\")\n",
    "\n",
    "# Check queue size after dequeue\n",
    "print(f\"Queue size after serving: {student_queue.queue_size()}\")\n",
    "\n",
    "# Enqueue more students using a for loop\n",
    "for i in range(6, 9):\n",
    "    student_queue.enqueue(f\"Student {i}\")\n",
    "\n",
    "# Check if the queue is empty\n",
    "if student_queue.is_empty():\n",
    "    print(\"The queue is empty.\")\n",
    "else:\n",
    "    print(\"There are still students in the queue.\")\n"
   ]
  }
 ],
 "metadata": {
  "kernelspec": {
   "display_name": "Python 3",
   "language": "python",
   "name": "python3"
  },
  "language_info": {
   "codemirror_mode": {
    "name": "ipython",
    "version": 3
   },
   "file_extension": ".py",
   "mimetype": "text/x-python",
   "name": "python",
   "nbconvert_exporter": "python",
   "pygments_lexer": "ipython3",
   "version": "3.12.2"
  }
 },
 "nbformat": 4,
 "nbformat_minor": 2
}
