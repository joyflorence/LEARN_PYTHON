
#LOOPS

{
 "cells": [
  {
   "cell_type": "code",
   "execution_count": 1,
   "metadata": {},
   "outputs": [
    {
     "name": "stdout",
     "output_type": "stream",
     "text": [
      "Count is 1\n",
      "Count is 2\n",
      "Count is 3\n",
      "Count is 4\n",
      "Count is 5\n",
      "Count is 6\n",
      "Count is 7\n",
      "Count is 8\n",
      "Count is 9\n",
      "Count is 10\n",
      "The loop has ended.\n"
     ]
    }
   ],
   "source": [
    "   \n",
    "# Initialize a counter \n",
    "count = 0\n",
    "  \n",
    "# Loop infinitely \n",
    "while True: \n",
    "    # Increment the counter \n",
    "    count += 1\n",
    "    print(f\"Count is {count}\") \n",
    "  \n",
    "    # Check if the counter has reached a certain value \n",
    "    if count == 10: \n",
    "        # If so, exit the loop \n",
    "        break\n",
    "  \n",
    "# This will be executed after the loop exits \n",
    "print(\"The loop has ended.\") "
   ]
  },
  {
   "cell_type": "code",
   "execution_count": 1,
   "metadata": {},
   "outputs": [
    {
     "name": "stdout",
     "output_type": "stream",
     "text": [
      "Good morning\n"
     ]
    }
   ],
   "source": [
    "print(\"Good morning\")"
   ]
  },
  {
   "cell_type": "code",
   "execution_count": 5,
   "metadata": {},
   "outputs": [
    {
     "name": "stdout",
     "output_type": "stream",
     "text": [
      "22\n",
      "78\n"
     ]
    }
   ],
   "source": [
    "theSum = 0\n",
    "num = 1\n",
    "while num <= 10:\n",
    "    num += 1\n",
    "    mySum = num\n",
    "    mySum = mySum + num\n",
    "\n",
    "print (mySum)\n",
    "\n",
    "mySum = 0 \n",
    "num = 1 \n",
    "while num <= 12: \n",
    "    mySum += num \n",
    "    num += 1    \n",
    "print (mySum)\n"
   ]
  },
  {
   "cell_type": "code",
   "execution_count": 8,
   "metadata": {},
   "outputs": [
    {
     "name": "stdout",
     "output_type": "stream",
     "text": [
      "The sum is 78\n"
     ]
    }
   ],
   "source": [
    "my_num = 0\n",
    "i = 1\n",
    "while i < 13:\n",
    "    my_num += i\n",
    "    i += 1\n",
    "print(f\"The sum is {my_num}\")"
   ]
  }
 ],
 "metadata": {
  "kernelspec": {
   "display_name": "Python 3",
   "language": "python",
   "name": "python3"
  },
  "language_info": {
   "codemirror_mode": {
    "name": "ipython",
    "version": 3
   },
   "file_extension": ".py",
   "mimetype": "text/x-python",
   "name": "python",
   "nbconvert_exporter": "python",
   "pygments_lexer": "ipython3",
   "version": "3.12.2"
  }
 },
 "nbformat": 4,
 "nbformat_minor": 2
}
