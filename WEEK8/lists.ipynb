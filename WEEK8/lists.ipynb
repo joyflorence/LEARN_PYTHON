{
 "cells": [
  {
   "cell_type": "markdown",
   "metadata": {},
   "source": [
    "# Python Essentials\n",
    "\n"
   ]
  },
  {
   "cell_type": "markdown",
   "metadata": {},
   "source": [
    "# lists\n",
    "\n",
    "Why do we need lists?\n",
    "\n",
    "It may happen that you have to read, store, process, and finally, print dozens, maybe hundreds, perhaps even thousands of numbers. What then? Do you need to create a separate variable for each value? Will you have to spend long hours writing statements like the one below?"
   ]
  },
  {
   "cell_type": "code",
   "execution_count": null,
   "metadata": {},
   "outputs": [],
   "source": [
    "var1 = int(input())\n",
    "var2 = int(input())\n",
    "var3 = int(input())\n",
    "var4 = int(input())\n",
    "var5 = int(input())\n",
    "var6 = int(input())"
   ]
  },
  {
   "cell_type": "markdown",
   "metadata": {},
   "source": [
    "Let's create a variable called numbers; it's assigned with not just one number, but is filled with a list consisting of five values (note: the list starts with an open square bracket and ends with a closed square bracket; the space between the brackets is filled with five numbers separated by commas)."
   ]
  },
  {
   "cell_type": "code",
   "execution_count": 2,
   "metadata": {},
   "outputs": [
    {
     "name": "stdout",
     "output_type": "stream",
     "text": [
      "[10, 5, 7, 2, 1, 'name']\n"
     ]
    }
   ],
   "source": [
    "numbers = [10, 5, 7, 2, 1,\"name\"]\n",
    "names = []\n",
    "print(numbers)"
   ]
  },
  {
   "cell_type": "markdown",
   "metadata": {},
   "source": [
    "\n",
    "# Indexing lists\n",
    "\n",
    "How do you change the value of a chosen element in the list?\n",
    "\n",
    "Let's assign a new value of 111 to the first element in the list. We do it this way:"
   ]
  },
  {
   "cell_type": "code",
   "execution_count": 4,
   "metadata": {},
   "outputs": [
    {
     "name": "stdout",
     "output_type": "stream",
     "text": [
      "name\n",
      "[10, 5, 7, 2, 1, 'marvin']\n"
     ]
    }
   ],
   "source": [
    "numbers = [10, 5, 7, 2, 1,\"name\"]\n",
    "print(numbers[5])\n",
    "\n",
    "numbers[5] = \"marvin\"\n",
    "print(numbers)\n",
    "\n"
   ]
  },
  {
   "cell_type": "markdown",
   "metadata": {},
   "source": [
    "# Accessing list content\n",
    "\n",
    "Each of the list's elements may be accessed separately. For example, it can be printed:"
   ]
  },
  {
   "cell_type": "code",
   "execution_count": 15,
   "metadata": {},
   "outputs": [
    {
     "name": "stdout",
     "output_type": "stream",
     "text": [
      "100\n"
     ]
    }
   ],
   "source": [
    "print(numbers[0]) # Accessing the list's first element."
   ]
  },
  {
   "cell_type": "markdown",
   "metadata": {},
   "source": [
    "# The len() function\n",
    "\n",
    "The length of a list may vary during execution. New elements may be added to the list, while others may be removed from it. This means that the list is a very dynamic entity.\n",
    "\n",
    "If you want to check the list's current length, you can use a function named len() (its name comes from length)."
   ]
  },
  {
   "cell_type": "code",
   "execution_count": 6,
   "metadata": {},
   "outputs": [
    {
     "name": "stdout",
     "output_type": "stream",
     "text": [
      "5\n",
      "[10, 5, 7, 2, 1]\n"
     ]
    }
   ],
   "source": [
    "numbers = [10, 5, 7, 2, 1]\n",
    "print(len(numbers))\n",
    "\n",
    "if(len(numbers)> 3):\n",
    "    print(numbers)\n",
    "\n",
    "\n",
    "\n",
    "print(\"Original list content:\", numbers)  # Printing original list content.\n",
    "names = [\"marvin\",\"bob\",\"jerry\"]\n",
    "numbers[0] = 111\n",
    "print(\"\\nPrevious list content:\", numbers)  # Printing previous list content.\n",
    "\n",
    "# numbers[1] = numbers[4]  # Copying value of the fifth element to the second.\n",
    "# print(\"Previous list content:\", numbers)  # Printing previous list content.\n",
    "\n",
    "print(\"\\nList length:\", len(names))  \n",
    "print(\"\\nList length:\", len(numbers))  \n",
    "print(numbers)"
   ]
  },
  {
   "cell_type": "markdown",
   "metadata": {},
   "source": [
    "# Removing elements from a list\n",
    "\n",
    "Any of the list's elements may be removed at any time - this is done with an instruction named del (delete). Note: it's an instruction, not a function.\n",
    "\n",
    "You have to point to the element to be removed - it'll vanish from the list, and the list's length will be reduced by one."
   ]
  },
  {
   "cell_type": "code",
   "execution_count": 7,
   "metadata": {},
   "outputs": [
    {
     "name": "stdout",
     "output_type": "stream",
     "text": [
      "[10, 5, 7, 2, 1]\n",
      "4\n",
      "[10, 7, 2, 1]\n"
     ]
    }
   ],
   "source": [
    "print(numbers)\n",
    "del numbers[1]\n",
    "print(len(numbers))\n",
    "print(numbers)"
   ]
  },
  {
   "cell_type": "code",
   "execution_count": 25,
   "metadata": {},
   "outputs": [
    {
     "name": "stdout",
     "output_type": "stream",
     "text": [
      "[111, 7, 2, 1]\n"
     ]
    }
   ],
   "source": [
    "print(numbers)\n",
    "# print(numbers[8])"
   ]
  },
  {
   "cell_type": "markdown",
   "metadata": {},
   "source": [
    "You can't access an element which doesn't exist"
   ]
  },
  {
   "cell_type": "code",
   "execution_count": 28,
   "metadata": {},
   "outputs": [
    {
     "name": "stdout",
     "output_type": "stream",
     "text": [
      "2\n",
      "[111, 7, 45, 1]\n"
     ]
    }
   ],
   "source": [
    "print(numbers[2])\n",
    "numbers[2] = 45\n",
    "print(numbers)"
   ]
  },
  {
   "cell_type": "markdown",
   "metadata": {},
   "source": [
    "# Negative indices are legal\n",
    "\n",
    "It may look strange, but negative indices are legal, and can be very useful.\n",
    "\n",
    "An element with an index equal to -1 is the last one in the list."
   ]
  },
  {
   "cell_type": "code",
   "execution_count": 10,
   "metadata": {},
   "outputs": [
    {
     "name": "stdout",
     "output_type": "stream",
     "text": [
      "[10, 7, 2, 1]\n",
      "7\n"
     ]
    }
   ],
   "source": [
    "print(numbers)\n",
    "print(numbers[-3])\n"
   ]
  },
  {
   "cell_type": "markdown",
   "metadata": {},
   "source": [
    "The example snippet will output 1. Run the program and check.\n",
    "\n",
    "Similarly, the element with an index equal to -2 is the one before last in the list."
   ]
  },
  {
   "cell_type": "code",
   "execution_count": 33,
   "metadata": {},
   "outputs": [
    {
     "name": "stdout",
     "output_type": "stream",
     "text": [
      "45\n"
     ]
    }
   ],
   "source": [
    "print(numbers[-2])"
   ]
  },
  {
   "cell_type": "code",
   "execution_count": 34,
   "metadata": {},
   "outputs": [
    {
     "name": "stdout",
     "output_type": "stream",
     "text": [
      "9\n",
      "59\n"
     ]
    }
   ],
   "source": [
    "numbers = [111, 7, 2, 1,19,59,9]\n",
    "print(numbers[-1])\n",
    "print(numbers[-2])\n"
   ]
  },
  {
   "cell_type": "markdown",
   "metadata": {},
   "source": [
    "# Scenario Assignment\n",
    "\n",
    "There once was a hat. The hat contained no rabbit, but a list of five numbers: 1, 2, 3, 4, and 5.\n",
    "\n",
    "Your task is to:\n",
    "\n",
    "write a line of code that prompts the user to replace the middle number in the list with an integer number entered by the user (Step 1)\n",
    "write a line of code that removes the last element from the list (Step 2)\n",
    "write a line of code that prints the length of the existing list (Step 3)."
   ]
  },
  {
   "cell_type": "markdown",
   "metadata": {},
   "source": [
    "# Functions vs. methods\n",
    "\n",
    "A method is a specific kind of function - it behaves like a function and looks like a function, but differs in the way in which it acts, and in its invocation style.\n",
    "\n",
    "A function doesn't belong to any data - it gets data, it may create new data and it (generally) produces a result.\n",
    "\n",
    "A method does all these things, but is also able to change the state of a selected entity.\n",
    "\n",
    "A method is owned by the data it works for, while a function is owned by the whole code.\n",
    "\n",
    "\n",
    "This also means that invoking a method requires some specification of the data from which the method is invoked.\n",
    "\n",
    "It may sound puzzling here, but we'll deal with it in depth when we delve into object-oriented programming.\n",
    "\n",
    "In general, a typical function invocation may look like this:"
   ]
  },
  {
   "cell_type": "code",
   "execution_count": 35,
   "metadata": {},
   "outputs": [
    {
     "name": "stdout",
     "output_type": "stream",
     "text": [
      "7\n"
     ]
    }
   ],
   "source": [
    "# result = function(arg) \n",
    "result = len(numbers)\n",
    "print(result)\n",
    "# The function takes an argument, does something, and returns a result."
   ]
  },
  {
   "cell_type": "markdown",
   "metadata": {},
   "source": [
    "A typical method invocation usually looks like this:"
   ]
  },
  {
   "cell_type": "code",
   "execution_count": 12,
   "metadata": {},
   "outputs": [
    {
     "name": "stdout",
     "output_type": "stream",
     "text": [
      "['marvin', 'mark', 'hellen', 'LIZ', 'bob']\n"
     ]
    }
   ],
   "source": [
    "names = [\"marvin\",\"hellen\",\"LIZ\"]\n",
    "\n",
    "names.append(\"bob\")\n",
    "names.insert(1,\"mark\")\n",
    "\n",
    "print(names)"
   ]
  },
  {
   "cell_type": "markdown",
   "metadata": {},
   "source": [
    " # Adding elements to a list:\n",
    "\n",
    "A new element may be glued to the end of the existing list:\n",
    "\n",
    "`list.append(value)`\n",
    "\n",
    "\n",
    "Such an operation is performed by a method named append(). It takes its argument's value and puts it at the end of the list which owns the method.\n",
    "\n",
    "The list's length then increases by one.\n",
    "\n",
    "The insert() method is a bit smarter - it can add a new element at any place in the list, not only at the end.\n",
    "\n",
    "`list.insert(location, value)`\n",
    "\n",
    "\n",
    "It takes two arguments:\n",
    "\n",
    "the first shows the required location of the element to be inserted; note: all the existing elements that occupy locations to the right of the new element (including the one at the indicated position) are shifted to the right, in order to make space for the new element;\n",
    "the second is the element to be inserted."
   ]
  },
  {
   "cell_type": "code",
   "execution_count": 37,
   "metadata": {},
   "outputs": [
    {
     "name": "stdout",
     "output_type": "stream",
     "text": [
      "4\n",
      "[111, 7, 2, 1]\n"
     ]
    }
   ],
   "source": [
    "numbers = [111, 7, 2, 1]\n",
    "print(len(numbers))\n",
    "print(numbers)\n",
    "\n"
   ]
  },
  {
   "cell_type": "code",
   "execution_count": 38,
   "metadata": {},
   "outputs": [
    {
     "name": "stdout",
     "output_type": "stream",
     "text": [
      "5\n",
      "[111, 7, 2, 1, 4]\n"
     ]
    }
   ],
   "source": [
    "###\n",
    "\n",
    "numbers.append(4)\n",
    "\n",
    "print(len(numbers))\n",
    "print(numbers)\n",
    "\n"
   ]
  },
  {
   "cell_type": "code",
   "execution_count": 39,
   "metadata": {},
   "outputs": [
    {
     "name": "stdout",
     "output_type": "stream",
     "text": [
      "6\n",
      "[222, 111, 7, 2, 1, 4]\n"
     ]
    }
   ],
   "source": [
    "###\n",
    "\n",
    "numbers.insert(0, 222)\n",
    "print(len(numbers))\n",
    "print(numbers)\n"
   ]
  },
  {
   "cell_type": "code",
   "execution_count": 40,
   "metadata": {},
   "outputs": [
    {
     "name": "stdout",
     "output_type": "stream",
     "text": [
      "7\n",
      "[222, 333, 111, 7, 2, 1, 4]\n"
     ]
    }
   ],
   "source": [
    "numbers.insert(1, 333)\n",
    "print(len(numbers))\n",
    "print(numbers)"
   ]
  },
  {
   "cell_type": "markdown",
   "metadata": {},
   "source": [
    "# Adding elements to a list: \n",
    "You can start a list's life by making it empty (this is done with an empty pair of square brackets) and then adding new elements to it as needed.\n",
    "\n",
    "\n",
    "It'll be a sequence of consecutive integer numbers from 1 (you then add one to all the appended values) to 5.\n",
    "\n",
    "\n",
    "We've modified the snippet a bit:\n",
    "\n",
    "`my_list = []  # Creating an empty list.\n",
    "\n",
    "for i in range(5):\n",
    "    my_list.insert(0, i + 1)\n",
    "\n",
    "print(my_list)`"
   ]
  },
  {
   "cell_type": "code",
   "execution_count": 17,
   "metadata": {},
   "outputs": [
    {
     "name": "stdout",
     "output_type": "stream",
     "text": [
      "4\n",
      "Hi marvin\n",
      "['marvin']\n",
      "Hi hellen\n",
      "['marvin', 'hellen']\n",
      "Hi mark\n",
      "['marvin', 'hellen', 'mark']\n"
     ]
    }
   ],
   "source": [
    "# my_list = []  # Creating an empty list.\n",
    "\n",
    "# for i in range(100):\n",
    "#     my_list.append(i + 1)\n",
    "\n",
    "# print(my_list)\n",
    "number = [111, 7, 2, 1]\n",
    "\n",
    "print(len(number))\n",
    "_names = []\n",
    "\n",
    "while len(number) > 2:\n",
    "    user_input = input('Enter your name: ')\n",
    "\n",
    "    # terminate the loop when user enters end\n",
    "    if user_input == 'end':\n",
    "        print(f'The loop is ended')\n",
    "        break  \n",
    "\n",
    "    print(f'Hi {user_input}')\n",
    "\n",
    "    _names.append(user_input)\n",
    "    print(_names)\n"
   ]
  },
  {
   "cell_type": "markdown",
   "metadata": {},
   "source": [
    "Key takeaways\n",
    "\n",
    "1. The list is a type of data in Python used to store multiple objects. It is an ordered and mutable collection of comma-separated items between square brackets, e.g.:"
   ]
  },
  {
   "cell_type": "code",
   "execution_count": 15,
   "metadata": {},
   "outputs": [],
   "source": [
    "my_list = [1, None, True, \"I am a string\", 256, 0]\n"
   ]
  },
  {
   "cell_type": "markdown",
   "metadata": {},
   "source": [
    "2. Lists can be indexed and updated, e.g.:"
   ]
  },
  {
   "cell_type": "code",
   "execution_count": null,
   "metadata": {},
   "outputs": [],
   "source": [
    "my_list = [1, None, True, 'I am a string', 256, 0]\n",
    "print(my_list[3])  # outputs: I am a string\n",
    "print(my_list[-1])  # outputs: 0\n",
    "\n",
    "my_list[1] = '?'\n",
    "print(my_list)  # outputs: [1, '?', True, 'I am a string', 256, 0]\n",
    "\n",
    "my_list.insert(0, \"first\")\n",
    "my_list.append(\"last\")\n",
    "print(my_list)  # outputs: ['first', 1, '?', True, 'I am a string', 256, 0, 'last']\n"
   ]
  },
  {
   "cell_type": "markdown",
   "metadata": {},
   "source": [
    "Lists can be nested, e.g.:"
   ]
  },
  {
   "cell_type": "code",
   "execution_count": null,
   "metadata": {},
   "outputs": [],
   "source": [
    "my_list = [1, 'a', [\"list\", 64, [0, 1], False]]"
   ]
  },
  {
   "cell_type": "markdown",
   "metadata": {},
   "source": [
    "List elements and lists can be deleted, e.g.:"
   ]
  },
  {
   "cell_type": "code",
   "execution_count": null,
   "metadata": {},
   "outputs": [],
   "source": [
    "my_list = [1, 2, 3, 4]\n",
    "del my_list[2]\n",
    "print(my_list)  # outputs: [1, 2, 4]\n",
    "\n",
    "del my_list "
   ]
  },
  {
   "cell_type": "markdown",
   "metadata": {},
   "source": [
    ". Lists can be iterated through using the for loop, e.g.:"
   ]
  },
  {
   "cell_type": "code",
   "execution_count": 44,
   "metadata": {},
   "outputs": [
    {
     "name": "stdout",
     "output_type": "stream",
     "text": [
      "white\n",
      "purple\n",
      "blue\n",
      "yellow\n",
      "green\n"
     ]
    }
   ],
   "source": [
    "my_list = [\"white\", \"purple\", \"blue\", \"yellow\", \"green\"]\n",
    "\n",
    "for k in my_list:\n",
    "    print(k)"
   ]
  },
  {
   "cell_type": "markdown",
   "metadata": {},
   "source": [
    "The len() function may be used to check the list's length, e.g.:"
   ]
  },
  {
   "cell_type": "code",
   "execution_count": 45,
   "metadata": {},
   "outputs": [
    {
     "name": "stdout",
     "output_type": "stream",
     "text": [
      "5\n",
      "4\n"
     ]
    }
   ],
   "source": [
    "my_list = [\"white\", \"purple\", \"blue\", \"yellow\", \"green\"]\n",
    "print(len(my_list))  # outputs 5\n",
    "\n",
    "del my_list[2]\n",
    "print(len(my_list))  # out"
   ]
  },
  {
   "cell_type": "markdown",
   "metadata": {},
   "source": [
    "A typical function invocation looks as follows: result = function(arg), while a typical method invocation looks like this:result = data.method(arg)."
   ]
  },
  {
   "cell_type": "markdown",
   "metadata": {},
   "source": [
    "# Making use of lists assignment\n",
    "Scenario\n",
    "The Beatles were one of the most popular music group of the 1960s, and the best-selling band in history. Some people consider them to be the most influential act of the rock era. Indeed, they were included in Time magazine's compilation of the 20th Century's 100 most influential people.\n",
    "\n",
    "The band underwent many line-up changes, culminating in 1962 with the line-up of John Lennon, Paul McCartney, George Harrison, and Richard Starkey (better known as Ringo Starr).\n",
    "\n",
    "\n",
    "Write a program that reflects these changes and lets you practice with the concept of lists. Your task is to:\n",
    "\n",
    "step 1: create an empty list named beatles;\n",
    "step 2: use the append() method to add the following members of the band to the list: John Lennon, Paul McCartney, and George Harrison;\n",
    "step 3: use the for loop and the append() method to prompt the user to add the following members of the band to the list: Stu Sutcliffe, and Pete Best;\n",
    "step 4: use the del instruction to remove Stu Sutcliffe and Pete Best from the list;\n",
    "step 5: use the insert() method to add Ringo Starr to the beginning of the list."
   ]
  },
  {
   "cell_type": "markdown",
   "metadata": {},
   "source": [
    "# The bubble sort\n",
    "\n",
    "Now that you can effectively juggle the elements of lists, it's time to learn how to sort them. Many sorting algorithms have been invented so far, which differ a lot in speed, as well as in complexity. We are going to show you a very simple algorithm, easy to understand, but unfortunately not too efficient, either. It's used very rarely, and certainly not for large and extensive lists.\n",
    "\n",
    "Let's say that a list can be sorted in two ways:\n",
    "\n",
    "increasing (or more precisely - non-decreasing) - if in every pair of adjacent elements, the former element is not greater than the latter;\n",
    "decreasing (or more precisely - non-increasing) - if in every pair of adjacent elements, the former element is not less than the latter.\n",
    "In the following sections, we'll sort the list in increasing order, so that the numbers will be ordered from the smallest to the largest.\n",
    "\n",
    "Here's the list:\n",
    "\n",
    "![Alt text](image.png)\n",
    "\n",
    "We'll try to use the following approach: we'll take the first and the second elements and compare them; if we determine that they're in the wrong order (i.e., the first is greater than the second), we'll swap them round; if their order is valid, we'll do nothing. A glance at our list confirms the latter - the elements 01 and 02 are in the proper order, as in 8 < 10.\n",
    "\n",
    "Now look at the second and the third elements. They're in the wrong positions. We have to swap them:\n",
    "\n",
    "\n",
    "![Alt text](image-1.png)\n",
    "\n",
    "We go further, and look at the third and the fourth elements. Again, this is not what it's supposed to be like. We have to swap them:\n",
    "\n",
    "`[8,6,2,10,4]`\n",
    "\n",
    "Now we check the fourth and the fifth elements. Yes, they too are in the wrong positions. Another swap occurs:\n",
    "\n",
    "`[8,6,2,4,10]`\n",
    "\n",
    "\n",
    "The first pass through the list is already finished. We're still far from finishing our job, but something curious has happened in the meantime. The largest element, 10, has already gone to the end of the list. Note that this is the desired place for it. All the remaining elements form a picturesque mess, but this one is already in place.\n",
    "\n",
    "\n",
    "\n",
    "Now, for a moment, try to imagine the list in a slightly different way - namely, like this:\n",
    "\n",
    "10\n",
    "4\n",
    "2\n",
    "6\n",
    "8\n",
    "\n",
    "Look - 10 is at the top. We could say that it floated up from the bottom to the surface, just like the bubble in a glass of champagne. The sorting method derives its name from the same observation - it's called a bubble sort.\n",
    "\n",
    "Now we start with the second pass through the list. We look at the first and second elements - a swap is necessary:\n",
    "\n",
    "6\n",
    "8\n",
    "2\n",
    "4\n",
    "10\n",
    "\n",
    "Time for the second and third elements: we have to swap them too:\n",
    "\n",
    "6\n",
    "2\n",
    "8\n",
    "4\n",
    "10\n",
    "\n",
    "Now the third and fourth elements, and the second pass is finished, as 8 is already in place:\n",
    "\n",
    "6\n",
    "2\n",
    "4\n",
    "8\n",
    "10\n",
    "\n",
    "We start the next pass immediately. Watch the first and the second elements carefully - another swap is needed:\n",
    "\n",
    "2\n",
    "6\n",
    "4\n",
    "8\n",
    "10\n",
    "\n",
    "Now 6 needs to go into place. We swap the second and the third elements:\n",
    "\n",
    "2\n",
    "4\n",
    "6\n",
    "8\n",
    "10\n",
    "\n",
    "The list is already sorted. We have nothing more to do. This is exactly what we want.\n",
    "\n",
    "As you can see, the essence of this algorithm is simple: we compare the adjacent elements, and by swapping some of them, we achieve our goal."
   ]
  },
  {
   "cell_type": "markdown",
   "metadata": {},
   "source": [
    "# Sorting a list\n",
    "\n",
    "How many passes do we need to sort the entire list?\n",
    "\n",
    "We solve this issue in the following way: we introduce another variable; its task is to observe if any swap has been done during the pass or not; if there is no swap, then the list is already sorted, and nothing more has to be done. We create a variable named swapped, and we assign a value of False to it, to indicate that there are no swaps. Otherwise, it will be assigned True."
   ]
  },
  {
   "cell_type": "code",
   "execution_count": 16,
   "metadata": {},
   "outputs": [],
   "source": [
    "my_list = [8, 10, 6, 2, 4]  # list to sort \n",
    "\n",
    "#   8                5     - 1   \n",
    "for i in range(len(my_list) - 1):  # we need (5 - 1) comparisons\n",
    "    if my_list[i] > my_list[i + 1]:  # compare adjacent elements\n",
    "        my_list[i], my_list[i + 1] = my_list[i + 1], my_list[i]  # If we end up here, we have to swap the elements."
   ]
  },
  {
   "cell_type": "markdown",
   "metadata": {},
   "source": [
    "# Bubble sort"
   ]
  },
  {
   "cell_type": "code",
   "execution_count": 46,
   "metadata": {},
   "outputs": [
    {
     "name": "stdout",
     "output_type": "stream",
     "text": [
      "[2, 4, 6, 8, 10]\n"
     ]
    }
   ],
   "source": [
    "# This code implements the bubble sort algorithm.\n",
    "#\n",
    "# The bubble sort algorithm works by repeatedly comparing adjacent elements\n",
    "# in the list and swapping them if they are in the wrong order.\n",
    "#\n",
    "# The algorithm terminates when no more swaps are necessary.\n",
    "\n",
    "# Create a list of numbers to sort.\n",
    "my_list = [8, 10, 6, 2, 4]\n",
    "\n",
    "# Initialize a flag to indicate whether any swaps have been made.\n",
    "swapped = True\n",
    "\n",
    "# While swaps have been made, continue iterating over the list.\n",
    "while swapped:\n",
    "\n",
    "    # Set the swapped flag to False.\n",
    "    swapped = False\n",
    "\n",
    "    # Iterate over the list, comparing adjacent elements.\n",
    "    for i in range(len(my_list) - 1):\n",
    "        # If the current element is greater than the next element, swap them.\n",
    "        if my_list[i] > my_list[i + 1]:\n",
    "            swapped = True\n",
    "            my_list[i], my_list[i + 1] = my_list[i + 1], my_list[i]\n",
    "\n",
    "# Print the sorted list.\n",
    "print(my_list)"
   ]
  },
  {
   "cell_type": "markdown",
   "metadata": {},
   "source": [
    "# example 2\n"
   ]
  },
  {
   "cell_type": "code",
   "execution_count": null,
   "metadata": {},
   "outputs": [],
   "source": [
    "my_list = []\n",
    "swapped = True\n",
    "num = int(input(\"How many elements do you want to sort: \"))\n",
    "\n",
    "for i in range(num):\n",
    "    val = float(input(\"Enter a list element: \"))\n",
    "    my_list.append(val)\n",
    "\n",
    "while swapped:\n",
    "    swapped = False\n",
    "    for i in range(len(my_list) - 1):\n",
    "        if my_list[i] > my_list[i + 1]:\n",
    "            swapped = True\n",
    "            my_list[i], my_list[i + 1] = my_list[i + 1], my_list[i]\n",
    "\n",
    "print(\"\\nSorted:\")\n",
    "print(my_list)\n"
   ]
  },
  {
   "cell_type": "markdown",
   "metadata": {},
   "source": [
    "# The bubble sort - interactive version\n",
    "\n",
    "In the editor you can see a complete program, enriched by a conversation with the user, and allowing the user to enter and to print elements from the list: The bubble sort - final interactive version."
   ]
  },
  {
   "cell_type": "code",
   "execution_count": null,
   "metadata": {},
   "outputs": [],
   "source": [
    "# Ask the user how many elements they want to sort.\n",
    "num = int(input(\"How many elements do you want to sort: \"))\n",
    "\n",
    "# Create a list to store the user's input.\n",
    "my_list = []\n",
    "\n",
    "# Iterate over the number of elements and ask the user to enter each element.\n",
    "for i in range(num):\n",
    "    val = float(input(\"Enter a list element: \"))\n",
    "    my_list.append(val)\n",
    "\n",
    "# Set a flag to indicate whether any swaps have been made.\n",
    "swapped = True\n",
    "\n",
    "# While swaps have been made, continue iterating over the list.\n",
    "while swapped:\n",
    "\n",
    "    # Set the swapped flag to False.\n",
    "    swapped = False\n",
    "\n",
    "    # Iterate over the list, comparing adjacent elements.\n",
    "    for i in range(len(my_list) - 1):\n",
    "        # If the current element is greater than the next element, swap them.\n",
    "        if my_list[i] > my_list[i + 1]:\n",
    "            swapped = True\n",
    "            my_list[i], my_list[i + 1] = my_list[i + 1], my_list[i]\n",
    "\n",
    "# Print the sorted list.\n",
    "print(\"\\nSorted:\")\n",
    "print(my_list)\n"
   ]
  },
  {
   "cell_type": "markdown",
   "metadata": {},
   "source": [
    "Python, however, has its own sorting mechanisms. No one needs to write their own sorts, as there is a sufficient number of ready-to-use tools."
   ]
  },
  {
   "cell_type": "code",
   "execution_count": 48,
   "metadata": {},
   "outputs": [
    {
     "name": "stdout",
     "output_type": "stream",
     "text": [
      "[2, 4, 6, 8, 10, 5454]\n"
     ]
    }
   ],
   "source": [
    "my_list = [8, 10,5454, 6, 2, 4]\n",
    "my_list.sort()\n",
    "print(my_list)"
   ]
  },
  {
   "cell_type": "markdown",
   "metadata": {},
   "source": [
    "There is also a list method called reverse(), which you can use to reverse the list, e.g.:\n"
   ]
  },
  {
   "cell_type": "code",
   "execution_count": null,
   "metadata": {},
   "outputs": [],
   "source": [
    "\n",
    "lst = [5, 3, 1, 2, 4]\n",
    "print(lst)\n",
    "\n",
    "lst.reverse()\n",
    "print(lst)"
   ]
  },
  {
   "cell_type": "markdown",
   "metadata": {},
   "source": [
    "# Powerful slices\n",
    "\n",
    "Fortunately, the solution is at your fingertips - its name is the slice.\n",
    "\n",
    "A slice is an element of Python syntax that allows you to make a brand new copy of a list, or parts of a list.\n",
    "\n",
    "It actually copies the list's contents, not the list's name.\n",
    "\n",
    "This is exactly what you need. Take a look at the snippet below:\n",
    "\n",
    "```python\n",
    "list_1 = [1]\n",
    "\n",
    "list_2 = list_1[:]\n",
    "\n",
    "list_1[0] = 2\n",
    "```\n",
    "\n",
    "print(list_2)\n",
    "\n",
    "\n",
    "$$\n",
    "Its output is [1].\n",
    "$$\n",
    "\n",
    "This inconspicuous part of the code described as [:] is able to produce a brand new list.\n",
    "\n",
    "One of the most general forms of the slice looks as follows:\n",
    "\n",
    "`my_list[start:end]`\n",
    "\n",
    "As you can see, it resembles indexing, but the colon inside makes a big difference.\n",
    "\n",
    "A slice of this form makes a new (target) list, taking elements from the source list - the elements of the indices from start to end - 1.\n",
    "\n",
    "Note: not to end but to end - 1. An element with an index equal to end is the first element which does not take part in the slicing.\n",
    "\n",
    "Using negative values for both start and end is possible (just like in indexing).\n",
    "\n",
    "Take a look at the snippet:\n",
    "\n",
    "`my_list = [10, 8, 6, 4, 2]\n",
    "new_list = my_list[1:3]\n",
    "print(new_list)`\n",
    "\n",
    "\n",
    "The new_list list will have end - start (3 - 1 = 2) elements - the ones with indices equal to 1 and 2 (but not 3).\n",
    "\n",
    "`The snippet's output is: [8, 6]`\n",
    "\n"
   ]
  },
  {
   "cell_type": "code",
   "execution_count": 51,
   "metadata": {},
   "outputs": [
    {
     "name": "stdout",
     "output_type": "stream",
     "text": [
      "[5, 3, 1, 2, 4]\n",
      "[5, 3, 1, 2, 4]\n",
      "[2, 3, 1, 2, 4]\n"
     ]
    }
   ],
   "source": [
    "list_1 = [5, 3, 1, 2, 4]\n",
    "# Copying the entire list.\n",
    "print(list_1)\n",
    "list_2 = list_1[:]\n",
    "print(list_2)\n",
    "\n",
    "list_2[0] = 2\n",
    "print(list_2)\n",
    "\n",
    "# # Copying some part of the list.\n",
    "# my_list = [10, 8, 6, 4, 2]\n",
    "# new_list = my_list[1:3]\n",
    "# print(new_list)\n"
   ]
  },
  {
   "cell_type": "markdown",
   "metadata": {},
   "source": [
    "# Slices - negative indices\n",
    "\n",
    "Look at the snippet below:\n",
    "\n",
    "`my_list[start:end]`\n",
    "\n",
    "\n",
    "To repeat:\n",
    "\n",
    "start is the index of the first element included in the slice;\n",
    "end is the index of the first element not included in the slice.\n",
    "\n",
    "This is how negative indices work with the slice:\n",
    "\n",
    "`my_list = [10, 8, 6, 4, 2]`\n",
    "`new_list = my_list[1:-1]`\n",
    "`print(new_list)`\n",
    "\n",
    "\n",
    "The snippet's output is:\n",
    "\n",
    "$$\n",
    "[8, 6, 4]\n",
    "output\n",
    "\n",
    "$$\n",
    "\n",
    "If the start specifies an element lying further than the one described by the end (from the list's beginning point of view), the slice will be empty:\n",
    "\n",
    "`my_list = [10, 8, 6, 4, 2]`\n",
    "`new_list = my_list[-1:1]`\n",
    "`print(new_list)`\n",
    "\n",
    "\n",
    "The snippet's output is:\n",
    "\n",
    "[]\n",
    "output\n",
    "\n"
   ]
  },
  {
   "cell_type": "markdown",
   "metadata": {},
   "source": [
    "If you omit the start in your slice, it is assumed that you want to get a slice beginning at the element with index 0.\n",
    "\n",
    "In other words, the slice of this form:\n",
    "\n",
    "`my_list[:end]`\n",
    "\n",
    "\n",
    "is a more compact equivalent of:\n",
    "\n",
    "`my_list[0:end]`"
   ]
  },
  {
   "cell_type": "code",
   "execution_count": 54,
   "metadata": {},
   "outputs": [
    {
     "name": "stdout",
     "output_type": "stream",
     "text": [
      "[10, 8, 6]\n"
     ]
    }
   ],
   "source": [
    "my_list = [10, 8, 6, 4, 2]\n",
    "new_list = my_list[:3]\n",
    "print(new_list)"
   ]
  },
  {
   "cell_type": "markdown",
   "metadata": {},
   "source": [
    "This is why its output is: [10, 8, 6].\n",
    "\n",
    "Similarly, if you omit the end in your slice, it is assumed that you want the slice to end at the element with the index len(my_list).\n",
    "\n",
    "In other words, the slice of this form:"
   ]
  },
  {
   "cell_type": "code",
   "execution_count": null,
   "metadata": {},
   "outputs": [],
   "source": [
    "my_list[start:]\n"
   ]
  },
  {
   "cell_type": "markdown",
   "metadata": {},
   "source": [
    "is a more compact equivalent of:\n"
   ]
  },
  {
   "cell_type": "code",
   "execution_count": 55,
   "metadata": {},
   "outputs": [
    {
     "name": "stdout",
     "output_type": "stream",
     "text": [
      "5\n"
     ]
    },
    {
     "data": {
      "text/plain": [
       "[6, 4, 2]"
      ]
     },
     "execution_count": 55,
     "metadata": {},
     "output_type": "execute_result"
    }
   ],
   "source": [
    "my_list = [10, 8, 6, 4, 2]\n",
    "print(len(my_list))\n",
    "my_list[2:len(my_list)]"
   ]
  },
  {
   "cell_type": "code",
   "execution_count": 56,
   "metadata": {},
   "outputs": [
    {
     "name": "stdout",
     "output_type": "stream",
     "text": [
      "[4, 2]\n"
     ]
    }
   ],
   "source": [
    "my_list = [10, 8, 6, 4, 2]\n",
    "new_list = my_list[3:]\n",
    "print(new_list)"
   ]
  },
  {
   "cell_type": "markdown",
   "metadata": {},
   "source": [
    "As we've said before, omitting both start and end makes a copy of the whole list:\n",
    "\n"
   ]
  },
  {
   "cell_type": "code",
   "execution_count": 57,
   "metadata": {},
   "outputs": [
    {
     "name": "stdout",
     "output_type": "stream",
     "text": [
      "[10, 8, 6, 4, 2]\n"
     ]
    }
   ],
   "source": [
    "my_list = [10, 8, 6, 4, 2]\n",
    "new_list = my_list[:]\n",
    "print(new_list)"
   ]
  },
  {
   "cell_type": "markdown",
   "metadata": {},
   "source": [
    "The previously described del instruction is able to delete more than just a list's element at once - it can delete slices too:"
   ]
  },
  {
   "cell_type": "code",
   "execution_count": 61,
   "metadata": {},
   "outputs": [
    {
     "name": "stdout",
     "output_type": "stream",
     "text": [
      "[10, 4, 2]\n"
     ]
    }
   ],
   "source": [
    "my_list = [10, 8, 6, 4, 2]\n",
    "\n",
    "del my_list[1:3]\n",
    "print(my_list)"
   ]
  },
  {
   "cell_type": "markdown",
   "metadata": {},
   "source": [
    "Note: in this case, the slice doesn't produce any new list!\n",
    "\n",
    "The snippet's output is: [10, 4, 2].\n",
    "\n",
    "\n",
    "Deleting all the elements at once is possible too:"
   ]
  },
  {
   "cell_type": "code",
   "execution_count": 7,
   "metadata": {},
   "outputs": [
    {
     "name": "stdout",
     "output_type": "stream",
     "text": [
      "[]\n"
     ]
    }
   ],
   "source": [
    "my_list = [10, 8, 6, 4, 2]\n",
    "del my_list[:]\n",
    "print(my_list)"
   ]
  },
  {
   "cell_type": "markdown",
   "metadata": {},
   "source": [
    "# The in and not in operators\n",
    "\n",
    "Python offers two very powerful operators, able to look through the list in order to check whether a specific value is stored inside the list or not.\n",
    "\n",
    "These operators are:\n",
    "`\n",
    "elem in my_list\n",
    "elem not in my_list\n",
    "`\n",
    "\n",
    "The first of them (in) checks if a given element (its left argument) is currently stored somewhere inside the list (the right argument) - the operator returns True in this case.\n",
    "\n",
    "The second (not in) checks if a given element (its left argument) is absent in a list - the operator returns True in this case\n"
   ]
  },
  {
   "cell_type": "code",
   "execution_count": 63,
   "metadata": {},
   "outputs": [
    {
     "name": "stdout",
     "output_type": "stream",
     "text": [
      "False\n",
      "True\n",
      "True\n"
     ]
    }
   ],
   "source": [
    "my_list = [0, 3, 12, 8, 2]\n",
    "print(5 in my_list)\n",
    "print(5 not in my_list)\n",
    "print(12 in my_list)\n"
   ]
  },
  {
   "cell_type": "markdown",
   "metadata": {},
   "source": [
    "# sample implementation "
   ]
  },
  {
   "cell_type": "markdown",
   "metadata": {},
   "source": [
    "The program below performs one unnecessary comparison, when the first element is compared with itself, but this isn't a problem at all."
   ]
  },
  {
   "cell_type": "code",
   "execution_count": 65,
   "metadata": {},
   "outputs": [
    {
     "name": "stdout",
     "output_type": "stream",
     "text": [
      "15\n"
     ]
    }
   ],
   "source": [
    "# The code may be rewritten to make use of the newly introduced form of the for loop:\n",
    "\n",
    "my_list = [6, 3, 11, 5, 1, 9, 7, 15, 13]\n",
    "largest = my_list[0]\n",
    "\n",
    "for i in my_list:\n",
    "    if i > largest:\n",
    "        largest = i\n",
    "\n",
    "print(largest)"
   ]
  },
  {
   "cell_type": "code",
   "execution_count": 10,
   "metadata": {},
   "outputs": [
    {
     "name": "stdout",
     "output_type": "stream",
     "text": [
      "17\n"
     ]
    }
   ],
   "source": [
    "# If you need to save computer power, you can use a slice:\n",
    "\n",
    "my_list = [17, 3, 11, 5, 1, 9, 7, 15, 13]\n",
    "largest = my_list[0]\n",
    "\n",
    "for i in my_list[1:]:\n",
    "    if i > largest:\n",
    "        largest = i\n",
    "\n",
    "print(largest)"
   ]
  },
  {
   "cell_type": "markdown",
   "metadata": {},
   "source": [
    "# Assignment\n",
    "\n",
    "Scenario\n",
    "Imagine a list - not very long, not very complicated, just a simple list containing some integer numbers. Some of these numbers may be repeated, and this is the clue. We don't want any repetitions. We want them to be removed.\n",
    "\n",
    "Your task is to write a program which removes all the number repetitions from the list. The goal is to have a list in which all the numbers appear not more than once.\n",
    "\n",
    "Note: assume that the source list is hard-coded inside the code - you don't have to enter it from the keyboard. Of course, you can improve the code and add a part that can carry out a conversation with the user and obtain all the data from her/him.\n",
    "\n",
    "Hint: we encourage you to create a new list as a temporary work area - you don't need to update the list in situ."
   ]
  },
  {
   "cell_type": "code",
   "execution_count": null,
   "metadata": {},
   "outputs": [],
   "source": [
    "my_list = [1, 2, 4, 4, 1, 4, 2, 6, 2, 9]\n",
    "#\n",
    "# Write your code here.\n",
    "#\n",
    "print(\"The list with unique elements only:\")\n",
    "print(my_list)"
   ]
  },
  {
   "cell_type": "markdown",
   "metadata": {},
   "source": [
    "Key takeaways\n",
    "\n",
    "1. If you have a list l1, then the following assignment: l2 = l1 does not make a copy of the l1 list, but makes the variables l1 and l2 point to one and the same list in memory. For example:\n",
    "\n",
    "\n",
    "\n",
    "\n"
   ]
  },
  {
   "cell_type": "code",
   "execution_count": null,
   "metadata": {},
   "outputs": [],
   "source": [
    "vehicles_one = ['car', 'bicycle', 'motor']\n",
    "print(vehicles_one) # outputs: ['car', 'bicycle', 'motor']\n",
    "\n",
    "vehicles_two = vehicles_one\n",
    "del vehicles_one[0] # deletes 'car'\n",
    "print(vehicles_two) # outputs: ['bicycle', 'motor']"
   ]
  },
  {
   "cell_type": "markdown",
   "metadata": {},
   "source": [
    "2. If you want to copy a list or part of the list, you can do it by performing slicing:\n",
    "\n"
   ]
  },
  {
   "cell_type": "code",
   "execution_count": null,
   "metadata": {},
   "outputs": [],
   "source": [
    "colors = ['red', 'green', 'orange']\n",
    "\n",
    "copy_whole_colors = colors[:]  # copy the entire list\n",
    "copy_part_colors = colors[0:2]  # copy part of the list\n",
    "\n"
   ]
  },
  {
   "cell_type": "markdown",
   "metadata": {},
   "source": [
    "You can use negative indices to perform slices, too. For example:"
   ]
  },
  {
   "cell_type": "code",
   "execution_count": null,
   "metadata": {},
   "outputs": [],
   "source": [
    "sample_list = [\"A\", \"B\", \"C\", \"D\", \"E\"]\n",
    "new_list = sample_list[2:-1]\n",
    "print(new_list)  # outputs: ['C', 'D']\n",
    "\n"
   ]
  },
  {
   "cell_type": "markdown",
   "metadata": {},
   "source": [
    "The start and end parameters are optional when performing a slice: list[start:end], e.g.:"
   ]
  },
  {
   "cell_type": "code",
   "execution_count": 11,
   "metadata": {},
   "outputs": [
    {
     "name": "stdout",
     "output_type": "stream",
     "text": [
      "[3, 4, 5]\n",
      "[1, 2]\n",
      "[4, 5]\n"
     ]
    }
   ],
   "source": [
    "my_list = [1, 2, 3, 4, 5]\n",
    "slice_one = my_list[2: ]\n",
    "slice_two = my_list[ :2]\n",
    "slice_three = my_list[-2: ]\n",
    "\n",
    "print(slice_one)  # outputs: [3, 4, 5]\n",
    "print(slice_two)  # outputs: [1, 2]\n",
    "print(slice_three)  # outputs: [4, 5]\n",
    "\n"
   ]
  },
  {
   "cell_type": "markdown",
   "metadata": {},
   "source": [
    ". You can delete slices using the del instruction:"
   ]
  },
  {
   "cell_type": "code",
   "execution_count": null,
   "metadata": {},
   "outputs": [],
   "source": [
    "my_list = [1, 2, 3, 4, 5]\n",
    "del my_list[0:2]\n",
    "print(my_list)  # outputs: [3, 4, 5]\n",
    "\n",
    "del my_list[:]\n",
    "print(my_list)  # deletes the list content, outputs: []\n",
    "\n"
   ]
  },
  {
   "cell_type": "markdown",
   "metadata": {},
   "source": [
    "You can test if some items exist in a list or not using the keywords in and not in, e.g.:"
   ]
  },
  {
   "cell_type": "code",
   "execution_count": null,
   "metadata": {},
   "outputs": [],
   "source": [
    "my_list = [\"A\", \"B\", 1, 2]\n",
    "\n",
    "print(\"A\" in my_list)  # outputs: True\n",
    "print(\"C\" not in my_list)  # outputs: True\n",
    "print(2 not in my_list)  # outputs: False\n",
    "\n"
   ]
  },
  {
   "cell_type": "markdown",
   "metadata": {},
   "source": [
    "# Read about List in lists\n",
    "\n",
    "in not morethan 1 page present your findings\n",
    "\n"
   ]
  },
  {
   "cell_type": "code",
   "execution_count": null,
   "metadata": {},
   "outputs": [],
   "source": [
    "mum = [1,2,[2,3, [1,3,4],5],4]"
   ]
  }
 ],
 "metadata": {
  "kernelspec": {
   "display_name": "Python 3",
   "language": "python",
   "name": "python3"
  },
  "language_info": {
   "codemirror_mode": {
    "name": "ipython",
    "version": 3
   },
   "file_extension": ".py",
   "mimetype": "text/x-python",
   "name": "python",
   "nbconvert_exporter": "python",
   "pygments_lexer": "ipython3",
   "version": "3.10.11"
  },
  "orig_nbformat": 4
 },
 "nbformat": 4,
 "nbformat_minor": 2
}
