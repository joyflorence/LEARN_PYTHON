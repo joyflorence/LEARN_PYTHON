{
 "cells": [
  {
   "cell_type": "markdown",
   "id": "ce8fdf21",
   "metadata": {},
   "source": [
    "# Circular Doubly Linked List Implementation\n",
    "\n",
    "This notebook demonstrates the implementation of a circular doubly linked list. Each node in the list contains a value and pointers to both the next and previous nodes."
   ]
  },
  {
   "cell_type": "markdown",
   "id": "a15e9a8a",
   "metadata": {},
   "source": [
    "## Node Class\n",
    "\n",
    "The `Node` class represents the individual elements in the linked list. Each node has a value (`val`) and two pointers: `prior` (to the previous node) and `next` (to the next node)."
   ]
  },
  {
   "cell_type": "code",
   "execution_count": 4,
   "id": "464a20e6",
   "metadata": {},
   "outputs": [],
   "source": [
    "class Node:\n",
    "    def __init__(self, val, prior=None, next=None):\n",
    "        # Each node holds a value. This is the data that is stored in the list.\n",
    "        self.val = val\n",
    "\n",
    "        # The 'prior' attribute points to the previous node in the list.\n",
    "        # For the first node in the list, this would be 'None'.\n",
    "        self.prior = prior\n",
    "\n",
    "        # The 'next' attribute points to the next node in the list.\n",
    "        # For the last node in the list, this would be 'None'.\n",
    "        self.next = next\n"
   ]
  },
  {
   "cell_type": "markdown",
   "metadata": {},
   "source": [
    "This Node class is the building block of a doubly linked list, where each node is connected forwards and backwards to adjacent nodes, allowing bidirectional traversal of the list."
   ]
  },
  {
   "cell_type": "markdown",
   "id": "ba7cfec6",
   "metadata": {},
   "source": [
    "## LinkedList Class\n",
    "\n",
    "The `LinkedList` class manages the nodes and provides methods for list operations like `prepend` and `append`. It also includes utility methods for getting the size of the list (`__len__`), retrieving items (`__getitem__`), iterating over the list (`__iter__`), and creating a string representation (`__repr__`)."
   ]
  },
  {
   "cell_type": "code",
   "execution_count": 5,
   "id": "926ff95f",
   "metadata": {},
   "outputs": [],
   "source": [
    "class LinkedList:\n",
    "    def __init__(self):\n",
    "        # Initialize the list with size 0 and a sentinel node.\n",
    "        # The sentinel node is a dummy node that does not contain any data.\n",
    "        # It's used to simplify the insertion and deletion operations.\n",
    "        self.size = 0\n",
    "        self.head = Node(None)  # Sentinel node\n",
    "        self.head.prior = self.head.next = self.head\n",
    "\n",
    "    def prepend(self, value):\n",
    "        # Add a new node with the given value to the start of the list.\n",
    "        # This operation increments the size of the list by 1.\n",
    "        self.size += 1\n",
    "        n = Node(value, prior=self.head, next=self.head.next)\n",
    "        self.head.next.prior = n  # Set the prior of the old first node to the new node.\n",
    "        self.head.next = n  # The new node is now the first node after the sentinel.\n",
    "\n",
    "    def append(self, value):\n",
    "        # Add a new node with the given value to the end of the list.\n",
    "        # This operation also increments the size of the list by 1.\n",
    "        self.size += 1\n",
    "        n = Node(value, prior=self.head.prior, next=self.head)\n",
    "        self.head.prior.next = n  # Set the next of the old last node to the new node.\n",
    "        self.head.prior = n  # The new node is now the last node before the sentinel.\n",
    "\n",
    "    def __getitem__(self, idx):\n",
    "        # Retrieve the node at the given index.\n",
    "        # This method will raise an 'Index out of bounds' error if the index is invalid.\n",
    "        assert idx >= 0 and idx < self.size, \"Index out of bounds\"\n",
    "        # if idx >= 0 and idx < self.size:\n",
    "        #     print()\n",
    "        # else:\n",
    "        #      \"Index out of bounds\"\n",
    "        n = self.head.next  # Start at the first real node.\n",
    "        for _ in range(idx):  # Traverse the list until the desired index is reached.\n",
    "            n = n.next\n",
    "        return n.val  # Return the value of the node at the given index.\n",
    "\n",
    "    def __len__(self):\n",
    "        # Return the number of elements in the list.\n",
    "        return self.size\n",
    "\n",
    "    def __iter__(self):\n",
    "        # Allow iteration over the nodes in the list.\n",
    "        # This method yields the value of each node until it loops back to the sentinel.\n",
    "        n = self.head.next\n",
    "        while n is not self.head:\n",
    "            yield n.val\n",
    "            n = n.next\n",
    "\n",
    "    def __repr__(self):\n",
    "        # Provide a string representation of the list.\n",
    "        # This is helpful for printing the list in a readable format.\n",
    "        return \"[\" + \", \".join(str(x) for x in self) + \"]\"\n"
   ]
  },
  {
   "cell_type": "markdown",
   "id": "cbb99de7",
   "metadata": {},
   "source": [
    "## Using the LinkedList\n",
    "\n",
    "Below we create an instance of `LinkedList`, prepend and append values, and demonstrate accessing and iterating over the list."
   ]
  },
  {
   "cell_type": "code",
   "execution_count": 8,
   "id": "67639d99",
   "metadata": {},
   "outputs": [
    {
     "name": "stdout",
     "output_type": "stream",
     "text": [
      "0\n",
      "1\n",
      "2\n",
      "3\n",
      "4\n",
      "5\n",
      "6\n",
      "7\n",
      "8\n",
      "9\n",
      "List contents: [9, 8, 7, 6, 5, 4, 3, 2, 1, 0, 0, 1, 2, 3, 4, 5, 6, 7, 8, 9]\n",
      "List size: 20\n"
     ]
    }
   ],
   "source": [
    "# Create a new instance of the LinkedList class.\n",
    "lst = LinkedList()\n",
    "\n",
    "\n",
    "# Prepend numbers 0 through 9 to the list. \n",
    "# This will add elements to the front of the list, so they will appear in reverse order.\n",
    "for i in range(10):\n",
    "    lst.prepend(i)\n",
    "    print(i)\n",
    "\n",
    "# Append numbers 0 through 9 to the list.\n",
    "# This will add elements to the end of the list, in the order they are given.\n",
    "for i in range(10):\n",
    "    lst.append(i)\n",
    "\n",
    "# Print the contents of the list.\n",
    "# The __repr__ method of LinkedList is used here to get a string representation.\n",
    "print(\"List contents:\", repr(lst))\n",
    "\n",
    "# Print the size of the list.\n",
    "# The __len__ method of LinkedList returns the number of elements in the list.\n",
    "print(\"List size:\", len(lst))\n"
   ]
  },
  {
   "cell_type": "markdown",
   "metadata": {},
   "source": [
    "Each method is designed to manage the nodes within the list and provide user-friendly ways to interact with the data structure. The prepend and append methods adjust the pointers of the neighboring nodes and the new node to maintain the list's structure. The __getitem__ method allows access to an element at a specific position, __len__ gives the current size of the list, __iter__ allows the list to be iterable, and __repr__ returns a string representation of the list."
   ]
  },
  {
   "cell_type": "code",
   "execution_count": 5,
   "id": "4cffa1c2",
   "metadata": {},
   "outputs": [
    {
     "ename": "IndentationError",
     "evalue": "expected an indented block after function definition on line 12 (2552336049.py, line 13)",
     "output_type": "error",
     "traceback": [
      "\u001b[1;36m  Cell \u001b[1;32mIn[5], line 13\u001b[1;36m\u001b[0m\n\u001b[1;33m    \"\"\"\u001b[0m\n\u001b[1;37m       ^\u001b[0m\n\u001b[1;31mIndentationError\u001b[0m\u001b[1;31m:\u001b[0m expected an indented block after function definition on line 12\n"
     ]
    }
   ],
   "source": [
    "    def __iter__(self):\n",
    "            \"\"\"\n",
    "        This special method allows iteration over the LinkedList.\n",
    "        When used in a for loop or a comprehension, it will yield the value\n",
    "        of each node in the list from the first to the last.\n",
    "        \"\"\"\n",
    "            n = self.head.next  # Start with the first real node (after the sentinel).\n",
    "        \n",
    "            while n is not self.head:  # Continue until the sentinel node is reached again.\n",
    "                yield n.val  # Yield the value of the current node.\n",
    "                n = n.next  # Move to the next node in the list.\n",
    "\n",
    "    def __repr__(self):\n",
    "        \"\"\"\n",
    "        This special method provides a developer-friendly string representation\n",
    "        of the LinkedList, which is also useful for debugging.\n",
    "        When you print the list or use it in a string context,\n",
    "        this method is called to show the list contents.\n",
    "        \"\"\"\n",
    "        return \"[\" + \", \".join(str(x) for x in self) + \"]\"\n",
    "        # Uses the __iter__ method to get each value in the list,\n",
    "        # converts each to a string, and joins them with commas.\n"
   ]
  },
  {
   "cell_type": "markdown",
   "metadata": {},
   "source": [
    "This code snippet first instantiates a new LinkedList. It then uses the prepend method to add integers in reverse order at the beginning of the list. After that, it uses the append method to add the same set of integers at the end of the list. Finally, it prints out the list's contents and its size. Since prepend is called before append, the output will start with the numbers 9 to 0 (from prepend), followed by 0 to 9 (from append)\n"
   ]
  },
  {
   "cell_type": "markdown",
   "id": "e1e90102",
   "metadata": {},
   "source": [
    "## Using the LinkedList\n",
    "\n",
    "Here we demonstrate how to use the `LinkedList` by prepending and appending elements, and then printing out the list contents and its size."
   ]
  },
  {
   "cell_type": "code",
   "execution_count": null,
   "id": "06bd464b",
   "metadata": {},
   "outputs": [],
   "source": [
    "# Instantiate the LinkedList object.\n",
    "lst = LinkedList()\n",
    "\n",
    "# Loop over a range of numbers from 0 to 9.\n",
    "# Each number is added to the beginning of the list, so the list will be in reverse order.\n",
    "for i in range(10):\n",
    "    lst.prepend(i)\n",
    "\n",
    "# Loop over a range of numbers from 10 to 19.\n",
    "# Each number is added to the end of the list, so they will be in the same order.\n",
    "for i in range(10, 20):\n",
    "    lst.append(i)\n",
    "\n",
    "# Print the contents of the list.\n",
    "# The __repr__ method of the LinkedList class is called by repr() to get a string representation.\n",
    "print(\"List contents:\", repr(lst))\n",
    "\n",
    "# Print the size of the list.\n",
    "# The __len__ method of the LinkedList class is called by len() to get the number of elements.\n",
    "print(\"List size:\", len(lst))\n"
   ]
  },
  {
   "cell_type": "markdown",
   "id": "ce8fdf21",
   "metadata": {},
   "source": [
    "# Circular Doubly Linked List Implementation\n",
    "\n",
    "This notebook demonstrates the implementation of a circular doubly linked list. Each node in the list contains a value and pointers to both the next and previous nodes."
   ]
  },
  {
   "cell_type": "markdown",
   "id": "a15e9a8a",
   "metadata": {},
   "source": [
    "## Node Class\n",
    "\n",
    "The `Node` class represents the individual elements in the linked list. Each node has a value (`val`) and two pointers: `prior` (to the previous node) and `next` (to the next node)."
   ]
  },
  {
   "cell_type": "code",
   "execution_count": null,
   "id": "464a20e6",
   "metadata": {},
   "outputs": [],
   "source": [
    "class Node:\n",
    "    def __init__(self, val, prior=None, next=None):\n",
    "        self.val = val\n",
    "        self.prior = prior\n",
    "        self.next = next"
   ]
  },
  {
   "cell_type": "markdown",
   "id": "ba7cfec6",
   "metadata": {},
   "source": [
    "## LinkedList Class\n",
    "\n",
    "The `LinkedList` class manages the nodes and provides methods for list operations like `prepend` and `append`. It also includes utility methods for getting the size of the list (`__len__`), retrieving items (`__getitem__`), iterating over the list (`__iter__`), and creating a string representation (`__repr__`)."
   ]
  },
  {
   "cell_type": "code",
   "execution_count": null,
   "id": "926ff95f",
   "metadata": {},
   "outputs": [],
   "source": [
    "class LinkedList:\n",
    "    def __init__(self):\n",
    "        self.size = 0\n",
    "        self.head = Node(None)  # Sentinel node\n",
    "        self.head.prior = self.head.next = self.head\n",
    "\n",
    "    def prepend(self, value):\n",
    "        self.size += 1\n",
    "        n = Node(value, prior=self.head, next=self.head.next)\n",
    "        self.head.next.prior = n\n",
    "        self.head.next = n\n",
    "\n",
    "    def append(self, value):\n",
    "        self.size += 1\n",
    "        n = Node(value, prior=self.head.prior, next=self.head)\n",
    "        self.head.prior.next = n\n",
    "        self.head.prior = n\n",
    "\n",
    "    def __getitem__(self, idx):\n",
    "        assert idx >= 0 and idx < self.size, \"Index out of bounds\"\n",
    "        n = self.head.next\n",
    "        for _ in range(idx):\n",
    "            n = n.next\n",
    "        return n.val\n",
    "\n",
    "    def __len__(self):\n",
    "        return self.size\n",
    "\n",
    "    def __iter__(self):\n",
    "        n = self.head.next\n",
    "        while n is not self.head:\n",
    "            yield n.val\n",
    "            n = n.next\n",
    "\n",
    "    def __repr__(self):\n",
    "        return \"[\" + \", \".join(str(x) for x in self) + \"]\""
   ]
  },
  {
   "cell_type": "markdown",
   "id": "cbb99de7",
   "metadata": {},
   "source": [
    "## Using the LinkedList\n",
    "\n",
    "Below we create an instance of `LinkedList`, prepend and append values, and demonstrate accessing and iterating over the list."
   ]
  },
  {
   "cell_type": "code",
   "execution_count": null,
   "id": "67639d99",
   "metadata": {},
   "outputs": [],
   "source": [
    "lst = LinkedList()\n",
    "for i in range(10):\n",
    "    lst.prepend(i)\n",
    "for i in range(10):\n",
    "    lst.append(i)\n",
    "\n",
    "print(\"List contents:\", repr(lst))\n",
    "print(\"List size:\", len(lst))"
   ]
  },
  {
   "cell_type": "code",
   "execution_count": null,
   "id": "4cffa1c2",
   "metadata": {},
   "outputs": [],
   "source": [
    "        \"\"\"Allow iteration over the list.\"\"\"\n",
    "        n = self.head.next\n",
    "        while n is not self.head:\n",
    "            yield n.val\n",
    "            n = n.next\n",
    "\n",
    "    def __repr__(self):\n",
    "        \"\"\"Represent the LinkedList as a string.\"\"\"\n",
    "        return \"[\" + \", \".join(str(x) for x in self) + \"]\""
   ]
  },
  {
   "cell_type": "markdown",
   "id": "e1e90102",
   "metadata": {},
   "source": [
    "## Using the LinkedList\n",
    "\n",
    "Here we demonstrate how to use the `LinkedList` by prepending and appending elements, and then printing out the list contents and its size."
   ]
  },
  {
   "cell_type": "code",
   "execution_count": null,
   "id": "06bd464b",
   "metadata": {},
   "outputs": [],
   "source": [
    "lst = LinkedList()\n",
    "for i in range(10):\n",
    "    lst.prepend(i)\n",
    "for i in range(10, 20):\n",
    "    lst.append(i)\n",
    "\n",
    "print(\"List contents:\", repr(lst))\n",
    "print(\"List size:\", len(lst))"
   ]
  },
  {
   "cell_type": "code",
   "execution_count": 15,
   "metadata": {},
   "outputs": [],
   "source": [
    "class Waypoint:\n",
    "    \"\"\"A class to represent a waypoint in a navigation system.\"\"\"\n",
    "    \n",
    "    def __init__(self, location, description):\n",
    "        \"\"\"\n",
    "        Initializes a new waypoint with a given location and description.\n",
    "        \n",
    "        :param location: A unique identifier or name for the waypoint's location.\n",
    "        :param description: A textual description of the waypoint.\n",
    "        \"\"\"\n",
    "        self.location = location\n",
    "        self.description = description\n",
    "        self.next = None  # Pointer to the next waypoint in a singly linked list.\n",
    "        self.prev = None  # Pointer to the previous waypoint in a doubly linked list.\n",
    "\n",
    "    def __repr__(self):\n",
    "        \"\"\"\n",
    "        Provides a developer-friendly string representation of the Waypoint.\n",
    "        \n",
    "        :return: A string representation of the waypoint.\n",
    "        \"\"\"\n",
    "        return f\"Waypoint({self.location}, {self.description})\"\n",
    "\n",
    "\n",
    "class BidirectionalRoute:\n",
    "    \"\"\"A class to represent a route as a doubly linked list of waypoints.\"\"\"\n",
    "    \n",
    "    def __init__(self):\n",
    "        \"\"\"\n",
    "        Initializes a new empty route.\n",
    "        \"\"\"\n",
    "        self.head = None  # Start of the route.\n",
    "        self.tail = None  # End of the route.\n",
    "\n",
    "    def add_waypoint(self, location, description):\n",
    "        \"\"\"\n",
    "        Adds a new waypoint to the end of the route.\n",
    "\n",
    "        :param location: The location of the waypoint to add.\n",
    "        :param description: The description of the waypoint to add.\n",
    "        \"\"\"\n",
    "        new_waypoint = Waypoint(location, description)\n",
    "        if not self.head:  # If the route is empty\n",
    "            self.head = self.tail = new_waypoint\n",
    "        else:\n",
    "            self.tail.next = new_waypoint  # Link the old tail to the new waypoint\n",
    "            new_waypoint.prev = self.tail  # Link the new waypoint back to the old tail\n",
    "            self.tail = new_waypoint  # Update the tail to be the new waypoint\n",
    "\n",
    "    def insert_waypoint_after(self, target_location, location, description):\n",
    "        \"\"\"\n",
    "        Inserts a new waypoint after a waypoint with a specified location.\n",
    "\n",
    "        :param target_location: The location after which to insert the new waypoint.\n",
    "        :param location: The location of the new waypoint.\n",
    "        :param description: The description of the new waypoint.\n",
    "        \"\"\"\n",
    "        current = self.head\n",
    "        while current and current.location != target_location:\n",
    "            current = current.next\n",
    "        if current is None:\n",
    "            raise ValueError(\"Target waypoint not found\")\n",
    "        new_waypoint = Waypoint(location, description)\n",
    "        new_waypoint.prev = current\n",
    "        new_waypoint.next = current.next\n",
    "        if current.next:\n",
    "            current.next.prev = new_waypoint\n",
    "        current.next = new_waypoint\n",
    "        if current == self.tail:  # If the target is the tail, update the tail.\n",
    "            self.tail = new_waypoint\n",
    "\n",
    "    def remove_waypoint(self, location):\n",
    "        \"\"\"\n",
    "        Removes a waypoint from the route based on its location.\n",
    "\n",
    "        :param location: The location of the waypoint to remove.\n",
    "        \"\"\"\n",
    "        current = self.head\n",
    "        while current and current.location != location:\n",
    "            current = current.next\n",
    "        if current is None:\n",
    "            raise ValueError(\"Waypoint to remove not found\")\n",
    "        if current.prev:\n",
    "            current.prev.next = current.next\n",
    "        if current.next:\n",
    "            current.next.prev = current.prev\n",
    "        if current == self.head:  # If the head is to be removed, update the head.\n",
    "            self.head = current.next\n",
    "        if current == self.tail:  # If the tail is to be removed, update the tail.\n",
    "            self.tail = current.prev\n",
    "\n",
    "    def __iter__(self):\n",
    "        \"\"\"\n",
    "        Allows iteration over the waypoints in the route from start to end.\n",
    "        \n",
    "        :yield: Each waypoint in the route.\n",
    "        \"\"\"\n",
    "        current = self.head\n",
    "        while current:\n",
    "            yield current\n",
    "            current = current.next\n",
    "\n",
    "    def __repr__(self):\n",
    "        \"\"\"\n",
    "        Provides a string representation of the route's waypoints.\n",
    "\n",
    "        :return: A string representing the waypoints in the route.\n",
    "        \"\"\"\n",
    "        waypoints = [str(waypoint) for waypoint in self]  # List comprehension to get waypoint strings.\n",
    "        return \"->\".join(waypoints)  # Join all waypoint strings with '->' to show the path.\n"
   ]
  },
  {
   "cell_type": "markdown",
   "metadata": {},
   "source": []
  },
  {
   "cell_type": "code",
   "execution_count": 17,
   "metadata": {},
   "outputs": [
    {
     "name": "stdout",
     "output_type": "stream",
     "text": [
      "Initial route:\n",
      "Waypoint(A, Start Point)->Waypoint(B, Forest)->Waypoint(C, Mountain)->Waypoint(D, Lake)\n",
      "\n",
      "Route after inserting a waypoint after 'B':\n",
      "Waypoint(A, Start Point)->Waypoint(B, Forest)->Waypoint(BB, River)->Waypoint(C, Mountain)->Waypoint(D, Lake)\n",
      "\n",
      "Route after removing waypoint 'C':\n",
      "Waypoint(A, Start Point)->Waypoint(B, Forest)->Waypoint(BB, River)->Waypoint(D, Lake)\n",
      "\n",
      "Traverse the route:\n",
      "Waypoint(A, Start Point)\n",
      "Waypoint(B, Forest)\n",
      "Waypoint(BB, River)\n",
      "Waypoint(D, Lake)\n"
     ]
    }
   ],
   "source": [
    "# Create a new bidirectional route\n",
    "route = BidirectionalRoute()\n",
    "\n",
    "# Add waypoints to the route\n",
    "route.add_waypoint(\"A\", \"Start Point\")\n",
    "route.add_waypoint(\"B\", \"Forest\")\n",
    "route.add_waypoint(\"C\", \"Mountain\")\n",
    "route.add_waypoint(\"D\", \"Lake\")\n",
    "\n",
    "# Print the current route\n",
    "print(\"Initial route:\")\n",
    "print(route)\n",
    "\n",
    "# Insert a waypoint after B\n",
    "route.insert_waypoint_after(\"B\", \"BB\", \"River\")\n",
    "\n",
    "# Print the route after insertion\n",
    "print(\"\\nRoute after inserting a waypoint after 'B':\")\n",
    "print(route)\n",
    "\n",
    "# Remove waypoint C\n",
    "route.remove_waypoint(\"C\")\n",
    "\n",
    "# Print the route after removal\n",
    "print(\"\\nRoute after removing waypoint 'C':\")\n",
    "print(route)\n",
    "\n",
    "# Traverse the route using the iterator\n",
    "print(\"\\nTraverse the route:\")\n",
    "for waypoint in route:\n",
    "    print(waypoint)\n"
   ]
  },
  {
   "cell_type": "code",
   "execution_count": null,
   "metadata": {},
   "outputs": [],
   "source": [
    "list = [1,2,3,4]\n",
    "# \n",
    "#  in not in"
   ]
  }
 ],
 "metadata": {
  "kernelspec": {
   "display_name": "Python 3",
   "language": "python",
   "name": "python3"
  },
  "language_info": {
   "codemirror_mode": {
    "name": "ipython",
    "version": 3
   },
   "file_extension": ".py",
   "mimetype": "text/x-python",
   "name": "python",
   "nbconvert_exporter": "python",
   "pygments_lexer": "ipython3",
   "version": "3.10.11"
  }
 },
 "nbformat": 4,
 "nbformat_minor": 5
}
