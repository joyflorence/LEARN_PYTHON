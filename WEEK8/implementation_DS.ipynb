{
 "cells": [
  {
   "cell_type": "code",
   "execution_count": 3,
   "metadata": {},
   "outputs": [
    {
     "name": "stdout",
     "output_type": "stream",
     "text": [
      "Sorted array: [0, 1, 6, 8, 23, 34, 67, 670]\n"
     ]
    }
   ],
   "source": [
    "#Bubble sort\n",
    "\n",
    "my_array = [23,67,1,34,0,6,670,8]\n",
    "n = len(my_array)\n",
    "for i in range(n):\n",
    "    swapped = False\n",
    "    for j in range(0,n-i-1):\n",
    "        #print(n-i-1)\n",
    "        if my_array[j] > my_array[j+1]:\n",
    "            my_array[j],my_array[j+1] = my_array[j+1],my_array[j]\n",
    "            swapped = True\n",
    "    if not swapped:\n",
    "        break\n",
    "print('Sorted array:',my_array)"
   ]
  },
  {
   "cell_type": "code",
   "execution_count": 5,
   "metadata": {},
   "outputs": [
    {
     "name": "stdout",
     "output_type": "stream",
     "text": [
      "sorted array: [5, 11, 12, 22, 25, 34, 64, 90]\n"
     ]
    }
   ],
   "source": [
    "#selection sort\n",
    "def selectionsort(my_array):\n",
    "    n= len(my_array)\n",
    "    for i in range(n-1):\n",
    "        min_idx = i\n",
    "        for idx in range(i+1,n):\n",
    "            if my_array[idx]<my_array[min_idx]:\n",
    "                min_idx = idx\n",
    "        my_array[i],my_array[min_idx] = my_array[min_idx],my_array[i]\n",
    "    return my_array\n",
    "\n",
    "my_array = [64, 34, 25, 5, 22, 11, 90, 12]\n",
    "sorted_array = selectionsort(my_array)\n",
    "print('sorted array:',sorted_array)"
   ]
  },
  {
   "cell_type": "code",
   "execution_count": null,
   "metadata": {},
   "outputs": [],
   "source": [
    "#insertion sort\n"
   ]
  }
 ],
 "metadata": {
  "kernelspec": {
   "display_name": "Python 3",
   "language": "python",
   "name": "python3"
  },
  "language_info": {
   "codemirror_mode": {
    "name": "ipython",
    "version": 3
   },
   "file_extension": ".py",
   "mimetype": "text/x-python",
   "name": "python",
   "nbconvert_exporter": "python",
   "pygments_lexer": "ipython3",
   "version": "3.12.2"
  }
 },
 "nbformat": 4,
 "nbformat_minor": 2
}
