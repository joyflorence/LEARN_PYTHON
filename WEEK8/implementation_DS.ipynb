{
 "cells": [
  {
   "cell_type": "code",
   "execution_count": null,
   "metadata": {},
   "outputs": [
    {
     "name": "stdout",
     "output_type": "stream",
     "text": [
      "Sorted array: [11, 12, 22, 25, 34, 64, 90]\n"
     ]
    }
   ],
   "source": [
    "#Bubble sort\n",
    "my_array = [64, 34, 25, 12, 22, 11, 90]\n",
    "n = len(my_array)\n",
    "for i in range(n-1):\n",
    "    swapped = False\n",
    "    for j in range(n-i-1):\n",
    "        if my_array[j] > my_array[j+1]:\n",
    "            my_array[j],my_array[j+1] = my_array[j+1],my_array[j]\n",
    "            swapped = True\n",
    "    if not swapped:\n",
    "        break\n",
    "print(\"Sorted array:\", my_array)          \n",
    "    "
   ]
  },
  {
   "cell_type": "code",
   "execution_count": 1,
   "metadata": {},
   "outputs": [
    {
     "name": "stdout",
     "output_type": "stream",
     "text": [
      "Sorted array: [4, 5, 9, 12, 34, 78, 90]\n"
     ]
    }
   ],
   "source": [
    "#selection sort\n",
    "\n",
    "my_array = [4,78,9,34,90,12, 5]\n",
    "\n",
    "for i in range(len(my_array)):\n",
    "    min_index = i\n",
    "    for j in range(i+1, len(my_array)):\n",
    "        if my_array[j] < my_array[min_index]:\n",
    "            min_index = j   \n",
    "    my_array[i], my_array[min_index] = my_array[min_index], my_array[i]\n",
    "\n",
    "print(\"Sorted array:\", my_array)"
   ]
  },
  {
   "cell_type": "code",
   "execution_count": 3,
   "metadata": {},
   "outputs": [
    {
     "name": "stdout",
     "output_type": "stream",
     "text": [
      "Sorted array: [5, 11, 12, 25, 34, 64, 90]\n"
     ]
    }
   ],
   "source": [
    "#insertion sort\n",
    "my_array = [64, 34, 25, 12, 11, 90, 5]\n",
    "\n",
    "n = len(my_array)\n",
    "for i in range(1,n):\n",
    "    insert_index = i\n",
    "    current_value = my_array[i]\n",
    "    for j in range(i-1, -1, -1):\n",
    "        if my_array[j] > current_value:\n",
    "            my_array[j+1] = my_array[j]\n",
    "            insert_index = j\n",
    "        else:\n",
    "            break\n",
    "    my_array[insert_index] = current_value\n",
    "\n",
    "print(\"Sorted array:\", my_array)"
   ]
  }
 ],
 "metadata": {
  "kernelspec": {
   "display_name": "Python 3",
   "language": "python",
   "name": "python3"
  },
  "language_info": {
   "codemirror_mode": {
    "name": "ipython",
    "version": 3
   },
   "file_extension": ".py",
   "mimetype": "text/x-python",
   "name": "python",
   "nbconvert_exporter": "python",
   "pygments_lexer": "ipython3",
   "version": "3.12.2"
  }
 },
 "nbformat": 4,
 "nbformat_minor": 2
}
