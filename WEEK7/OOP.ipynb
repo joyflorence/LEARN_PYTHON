{
 "cells": [
  {
   "cell_type": "code",
   "execution_count": 12,
   "metadata": {},
   "outputs": [
    {
     "name": "stdout",
     "output_type": "stream",
     "text": [
      "Honda has a mile spped of 23.4\n",
      "BMW runs at a maximum speed of 1234km/hr, milage speed is 24.1\n"
     ]
    }
   ],
   "source": [
    "class car:\n",
    "    def __init__(self,name,milage):\n",
    "        self.name = name\n",
    "        self.milage = milage\n",
    "    def max_speed(self,speed):\n",
    "        return f\"{self.name} runs at a maximum speed of {speed}km/hr, milage speed is {self.milage}\"\n",
    "    def description(self,milage):\n",
    "        return f\"{self.name} has a mile spped of {milage}\"\n",
    "    \n",
    "obj2 = car(\"Honda\",23)\n",
    "print(obj2.description(23.4))\n",
    "Obj = car(\"BMW\",24.1)\n",
    "print(Obj.max_speed(1234))\n",
    "\n",
    "\n",
    "\n",
    "\n"
   ]
  },
  {
   "cell_type": "code",
   "execution_count": null,
   "metadata": {},
   "outputs": [],
   "source": []
  },
  {
   "cell_type": "code",
   "execution_count": null,
   "metadata": {},
   "outputs": [],
   "source": []
  },
  {
   "cell_type": "code",
   "execution_count": 7,
   "metadata": {},
   "outputs": [
    {
     "name": "stdout",
     "output_type": "stream",
     "text": [
      "I am a cat. My name is Andy. I am 2 years old.\n",
      "Meow\n",
      "I am a cat. My name is Phoebe. I am 3 years old.\n"
     ]
    }
   ],
   "source": [
    "class Cat:\n",
    "    def __init__(self, name, age):\n",
    "        self.name = name\n",
    "        self.age = age\n",
    "\n",
    "    def info(self):\n",
    "        return (f\"I am a cat. My name is {self.name}. I am {self.age} years old.\")\n",
    "\n",
    "    def make_sound(self):\n",
    "        return (\"Meow\")\n",
    "cat1 = Cat('Andy', 2)\n",
    "cat2 = Cat('Phoebe', 3)\n",
    "print(cat1.info())\n",
    "\n",
    "print(cat1.make_sound())\n",
    "print(cat2.info())"
   ]
  }
 ],
 "metadata": {
  "kernelspec": {
   "display_name": "Python 3",
   "language": "python",
   "name": "python3"
  },
  "language_info": {
   "codemirror_mode": {
    "name": "ipython",
    "version": 3
   },
   "file_extension": ".py",
   "mimetype": "text/x-python",
   "name": "python",
   "nbconvert_exporter": "python",
   "pygments_lexer": "ipython3",
   "version": "3.12.2"
  }
 },
 "nbformat": 4,
 "nbformat_minor": 2
}
